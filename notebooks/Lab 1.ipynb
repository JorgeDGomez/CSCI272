{
 "cells": [
  {
   "cell_type": "markdown",
   "metadata": {},
   "source": [
    "# Lab 1"
   ]
  },
  {
   "cell_type": "markdown",
   "metadata": {},
   "source": [
    "## Problem\n",
    "\n",
    "Create an advanced scientific calculator that performs various calculations on numbers and polynomials.\n",
    "In *abstract algebra*, there exists an abstract description of above numerical or algebraic system called **group**.\n",
    "- **Group** is a **set** with a **binary** operation.\n",
    "\n",
    "For example:\n",
    "\n",
    "- Real number with division\n",
    "- Complex numbers with multiplication\n",
    "- Polynomials with addition\n",
    "\n",
    "You can use this knowledge to create an hierarchy of classes `Real`, `Complex` and `Binomial`,\n",
    "and then extend it with appropriate numerical or algebraic system binary operations."
   ]
  },
  {
   "cell_type": "markdown",
   "metadata": {},
   "source": [
    "## Rubric\n",
    "\n",
    "Write a program that accomplishes each of the following:\n",
    "\n",
    "- Create a user-defined class `Real` that has a *protected* data member that would contain a value of the real number (10 pts).\n",
    "    - Create a constructor that accepts one parameter which is used to initialize a class object.\n",
    "    - Overload the division operator ( `/` ) to divide two `Real`s.\n",
    "- Derive a class `Complex` from `Real` and add additional data member for the imaginary part of the number (10 pts).\n",
    "    - Create a constructor that accepts two parameters which is used to initialize a class object.\n",
    "    - Overload the multiplication operator ( `*` ) to multiply two `Complex` numbers.\n",
    "- Derive a class `Polynomial` from `Complex` and add additional data member for the the exponents of algebraic coefficients (10 pts).\n",
    "    - Create a constructor that accepts three parameters which is used to initialize a class object.\n",
    "    - Overload the addition operator ( `+` ) to add two `Polynomial`s.\n",
    "- For every class the stream insertion `<<` operator functions as **friend** functions (10 pts). \n",
    "    - The stream insertion operator should not be able to display if an input error occurred.\n",
    "    - For negative imaginary values, a minus sign should be printed rather than a plus sign.    \n",
    "- **Bonus:** For every class the stream extraction `>>` operator function should determine whether the data entered is valid, and, if not, it should set fail to indicate improper input (10 pts).\n",
    "    - The values can be negative or positive, and it's possible that one of the two values is not provided, in which case the appropriate data member should be set to 0."
   ]
  },
  {
   "cell_type": "markdown",
   "metadata": {},
   "source": [
    "## Test Driver"
   ]
  },
  {
   "cell_type": "code",
   "execution_count": null,
   "metadata": {},
   "outputs": [],
   "source": [
    "#include <iostream>\n",
    "using namespace std;\n",
    "\n",
    "int main() \n",
    "{\n",
    "    Real a{30.0};\n",
    "    Real b{20.0};  \n",
    "    // next line shows: 30/20 = 1.5\n",
    "    cout << a << \" / \" << b << \" = \" << (a/b) << endl;\n",
    "                \n",
    "    Complex d{3.0, 1.0};  // 3 + i\n",
    "    Complex e{2.0, -2.0}; // 2 - 2i\n",
    "    // next line shows: (3+1i)*(2-2i) = (8-4i)\n",
    "    cout << \"(\" << d << \") * (\" << e << \") = \" << (d*e) << endl;\n",
    "        \n",
    "    Polynomial h{2,1,1};    // 2x^2+1x+1\n",
    "    Polynomial i{1,-1,0};   // 1x^2-1x\n",
    "    // next line shows: (2x^2+1x+1) + (1x^2-1x) = (3x^2+1)\n",
    "    cout << \"(\" << h << \") + (\" << i << \") = \" << (h+i) << endl;     \n",
    "}"
   ]
  },
  {
   "cell_type": "markdown",
   "metadata": {},
   "source": [
    "## Solution: class `Real`"
   ]
  },
  {
   "cell_type": "markdown",
   "metadata": {},
   "source": [
    "We start by sketching preliminary version of the `Real` class."
   ]
  },
  {
   "cell_type": "code",
   "execution_count": 1,
   "metadata": {},
   "outputs": [],
   "source": [
    "class Real {\n",
    "public:    \n",
    "    // data memeber\n",
    "    double a;\n",
    "    // constructor\n",
    "    Real(double x): a{x} {}\n",
    "    // overloaded operation\n",
    "    Real operator/(Real& x) const {\n",
    "        double r = a / x.a;\n",
    "        return Real(r);\n",
    "    }\n",
    "};"
   ]
  },
  {
   "cell_type": "markdown",
   "metadata": {},
   "source": [
    "To test the class `Real` constructor and `+` operation, we use following test driver.\n",
    "- **Note:** Above class has `public` data member."
   ]
  },
  {
   "cell_type": "code",
   "execution_count": 3,
   "metadata": {},
   "outputs": [
    {
     "name": "stdout",
     "output_type": "stream",
     "text": [
      "1.48039\n"
     ]
    }
   ],
   "source": [
    "#include <iostream>\n",
    "using namespace std;\n",
    "int main()\n",
    "{\n",
    "    Real a{30.2};\n",
    "    Real b{20.4};\n",
    "    cout << (a / b).a << endl;\n",
    "}"
   ]
  },
  {
   "cell_type": "markdown",
   "metadata": {},
   "source": [
    "We change access modifier from `public` to `protected`. So, in order to access our protected data field, we implement a stream insertion `<<` operator for class `Real` by adding a friend function. The final version of the class `Real` is following:"
   ]
  },
  {
   "cell_type": "code",
   "execution_count": null,
   "metadata": {},
   "outputs": [],
   "source": [
    "class Real {\n",
    "    friend ostream& operator<<(ostream&, const Real&);\n",
    "protected:    \n",
    "    // data memeber\n",
    "    double a;\n",
    "public:    \n",
    "    // constructor\n",
    "    Real(double x): a{x} {}\n",
    "    // overloaded operation\n",
    "    Real operator/(Real& x) const {\n",
    "        double r = a / x.a;\n",
    "        return Real(r);\n",
    "    }\n",
    "};\n",
    "\n",
    "ostream& operator<<(ostream& output, const Real& obj) {\n",
    "    output << obj.a;\n",
    "    return output;\n",
    "}"
   ]
  },
  {
   "cell_type": "markdown",
   "metadata": {},
   "source": [
    "Next, we implement `Complex` class by deriving it from the `Real` class and inheriting all its data members.\n",
    "\n",
    "The `Complex` class represents a complex number, which has two components real and imaginary. We designate the inherited data member `a` of the `Real` class to be the real part of our complex number.\n",
    "\n",
    "We add another data member `b` for the imaginary component of the complex number in `Complex` class.\n",
    "\n",
    "Now, we need to initialize both data members. However, the member `a` cannot be initialized explicitly in the constructor of the class `Complex`. We can perform implicit initialization by calling the constructor of the base class `Real` as follows:"
   ]
  },
  {
   "cell_type": "code",
   "execution_count": 2,
   "metadata": {},
   "outputs": [],
   "source": [
    "class Complex : public Real {\n",
    "protected:\n",
    "    double b;\n",
    "public:\n",
    "    // derived class constructor that uses base class constructor\n",
    "    Complex(double x, double y): Real(x), b{y} {}\n",
    "    ....\n",
    "};"
   ]
  },
  {
   "cell_type": "markdown",
   "metadata": {},
   "source": [
    "Continue by analogy, implementing necessary operations and friend functions for provided test driver."
   ]
  }
 ],
 "metadata": {
  "kernelspec": {
   "display_name": "C++14",
   "language": "C++14",
   "name": "xcpp14"
  },
  "language_info": {
   "codemirror_mode": "text/x-c++src",
   "file_extension": ".cpp",
   "mimetype": "text/x-c++src",
   "name": "c++",
   "version": "-std=c++14"
  }
 },
 "nbformat": 4,
 "nbformat_minor": 2
}
