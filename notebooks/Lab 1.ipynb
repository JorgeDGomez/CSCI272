{
 "cells": [
  {
   "cell_type": "markdown",
   "metadata": {},
   "source": [
    "# Lab 1"
   ]
  },
  {
   "cell_type": "markdown",
   "metadata": {},
   "source": [
    "## Problem\n",
    "\n",
    "Create an advanced scientific calculator that performs various calculations on numbers and polynomials.\n",
    "In *abstrac algebra*, there exists an abstract description of above numerical or algebraic system called **group**.\n",
    "- **Group** is a **set** with a **binary** operation.\n",
    "\n",
    "For example:\n",
    "\n",
    "- Real numbers with division\n",
    "- Complex numbers with multiplication\n",
    "- Polynomials with addition\n",
    "\n",
    "You can use this knowledge to create an hierarchy of classes `Real`, `Complex` and `Binomial`,\n",
    "and then extend it with appropriate numerical or algebraic system binary operations."
   ]
  },
  {
   "cell_type": "markdown",
   "metadata": {},
   "source": [
    "## Rubric\n",
    "\n",
    "Write a program that accomplishes each of the following:\n",
    "\n",
    "- Create a user-defined class `Real` that contains a private data member that would contain a value of the real number (10 pts).\n",
    "    - Overload the division operator ( `/` ) to divide two `Real`s.\n",
    "    - Overload the equality operation ( `==` ) to compare two  `Real`s.\n",
    "- Derive a class `Complex` from `Real` and add additional data member for the imaginary part of the number (10 pts).\n",
    "    - Overload the multiplication operator ( `*` ) to multiply two `Complex` numbers.\n",
    "    - Overload the equality operation ( `==` ) to compare two  `Complex` numbers.\n",
    "- Derive a class `Binomial` from `Complex` and add additional data member for the the exponents of algebraic coefficients (10 pts).\n",
    "    - Overload the addition operator ( `+` ) to add two `Binomial`s.\n",
    "    - Overload the equality operation ( `==` ) to compare two `Binomial`s.   \n",
    "- For every class the stream insertion `<<` operator functions as **friend** functions (10 pts). \n",
    "    - The stream insertion operator should not be able to display if an input error occurred.\n",
    "    - For negative imaginary values, a minus sign should be printed rather than a plus sign.    \n",
    "- For every class the stream extraction `>>` operator function should determine whether the data entered is valid, and, if not, it should set fail to indicate improper input (10 pts).\n",
    "    - The values can be negative or positive, and it’s possible that one of the two values is not provided, in which case the appropriate data member should be set to 0."
   ]
  },
  {
   "cell_type": "markdown",
   "metadata": {},
   "source": [
    "## Test Driver"
   ]
  },
  {
   "cell_type": "code",
   "execution_count": null,
   "metadata": {},
   "outputs": [],
   "source": [
    "{\n",
    "    Real a{30.0};\n",
    "    Real b{6.0};\n",
    "    Real c{5.0};    \n",
    "    cout << boolalpha << (a/b == c) // prints true\n",
    "                \n",
    "    Complex d{3.0, 1.0};  // 3 + i\n",
    "    Complex e{2.0, -2.0}; // 2 - 2i\n",
    "    Complex f{8.0, 4.0};  // (3 + i)(2 - 2i) = 6 + 2i - 6i - 2ii = 8 - 4i\n",
    "    cout << boolalpha << (d*e == f) // prints true\n",
    "        \n",
    "    Binomial h{2,1,1};    // 2x^2 + 1x^1 + 1x^0\n",
    "    Binomial i{1,-1,0};   // 1*x^1-1*x^0\n",
    "    Binomial j{3,0,1};    // (2x^2+x+1)+(x^2-x) = 3x^2 + 1 \n",
    "    cout << (h/i == j)    // prints true    \n",
    "}"
   ]
  }
 ],
 "metadata": {
  "kernelspec": {
   "display_name": "C++14",
   "language": "C++14",
   "name": "xcpp14"
  },
  "language_info": {
   "codemirror_mode": "text/x-c++src",
   "file_extension": ".cpp",
   "mimetype": "text/x-c++src",
   "name": "c++",
   "version": "-std=c++14"
  }
 },
 "nbformat": 4,
 "nbformat_minor": 2
}
