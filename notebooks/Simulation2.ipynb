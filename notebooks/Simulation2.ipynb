{
 "cells": [
  {
   "cell_type": "markdown",
   "metadata": {},
   "source": [
    "# Simulation: Part 2"
   ]
  },
  {
   "cell_type": "code",
   "execution_count": 1,
   "metadata": {
    "slideshow": {
     "slide_type": "skip"
    }
   },
   "outputs": [],
   "source": [
    "// Load required libraries for notebook code\n",
    "#include <string> // enable program to use C++ string data type\n",
    "#include <iostream>\n",
    "using namespace std;"
   ]
  },
  {
   "cell_type": "markdown",
   "metadata": {},
   "source": [
    "## Computation modeling in biology\n",
    "\n",
    "Write a program that simulates the growth of **parasite population in an animal** over time. Each parasite organism **reproduces itself** at **some time interval**. Animals may **undergo drug treatment** to inhibit the reproduction process, and clear the parasites from their body. However, some of the parasite are **resistant to drugs** and **may survive**."
   ]
  },
  {
   "cell_type": "markdown",
   "metadata": {
    "slideshow": {
     "slide_type": "slide"
    }
   },
   "source": [
    "## Rubric\n",
    "\n",
    "- Use your program from the previous assignment to extend it with new functionality\n",
    "- Implement *has-a* relationship between Animal and Parasite class: `Animal` has `Parasite`s (10 pts)\n",
    "    - Implement corresponding relation collection of `Parasite` objects in `Animal` class\n",
    "        - You could use `std::vector` as a data structure for a collection of objects\n",
    "    - Implement an appropriate *constructor* logic for `Animal` class that would initialize correspondent `Parasite` objects during the initialization of `Animal` object.\n",
    "    - Implement an appropriate *destructor* logic  for `Animal` class that would destroy correspondent `Parasite` objects during the destruction of `Animal` object.\n",
    "- Add a friend function `<<` to both classes to allow print objects to the output stream (5 pts)\n",
    "- Overload an operator `[]` in Animal class to get access to particular Parasite object. Make sure to check existence of the object. (5 pts)\n",
    " \n",
    "- In your *simulation.cpp* file (5 pts)\n",
    "    - Create an object of `Animal` class.\n",
    "    - Print all its `Parasite` objects of the screen using overridden `[]` and friend `<<` operations.\n",
    "\n",
    "- Bonus points (3 pts)\n",
    "    - program compiles without errors and warnings\n",
    "    - use proper coding style (see below)\n",
    "    "
   ]
  },
  {
   "cell_type": "markdown",
   "metadata": {},
   "source": [
    "# Solution: Program Listings\n",
    "\n",
    "Take the Lab 1 solution to bootstrap the Lab 2."
   ]
  },
  {
   "cell_type": "markdown",
   "metadata": {},
   "source": [
    "## `Parasite.h`\n",
    "\n",
    "Parasite class declaration stays the same except the destructor is added. For friendly output of the `Parasite` object to the console, we add friend `<<` function (line 9)."
   ]
  },
  {
   "cell_type": "code",
   "execution_count": 17,
   "metadata": {},
   "outputs": [],
   "source": [
    "#ifndef PARASITE_H\n",
    "#define PARASITE_H\n",
    "\n",
    "#include <iostream>\n",
    "using namespace std;\n",
    "\n",
    "class Parasite {\n",
    "\n",
    "    friend ostream& operator<<(ostream&, Parasite*);\n",
    "\n",
    "    float reproductionRate; // rate of reproduction, in %\n",
    "    float resistance;       // resistance against drugs, in %\n",
    "\n",
    "public:\n",
    "    Parasite(float newReproductionRate, float newResistance);\n",
    "    ~Parasite();\n",
    "\n",
    "    float getReproductionRate();\n",
    "    float getResistance();\n",
    "\n",
    "    Parasite* reproduce(float immunity);\n",
    "    bool survive(float immunity);\n",
    "};\n",
    "\n",
    "#endif"
   ]
  },
  {
   "cell_type": "markdown",
   "metadata": {},
   "source": [
    "## `Parasite.cpp`\n",
    "\n",
    "Implementation of the `Parasite` class is updated with the destructor and fiend function implementations."
   ]
  },
  {
   "cell_type": "code",
   "execution_count": null,
   "metadata": {},
   "outputs": [],
   "source": [
    "#include \"Parasite.h\"\n",
    "\n",
    "Parasite::Parasite(float newReproductionRate, float newResistance) {\n",
    "    reproductionRate = newReproductionRate;\n",
    "    resistance = newResistance;\n",
    "    cout << \"Parasite is born with \" << reproductionRate*100 << \"% reproduction rate, and \"\n",
    "         << resistance*100 << \"% resistance\" << endl;\n",
    "}\n",
    "\n",
    "Parasite::~Parasite() {\n",
    "    cout << \"Parasite object is deleted\" << endl;\n",
    "}\n",
    "\n",
    "float Parasite::getReproductionRate(){\n",
    "    return reproductionRate;\n",
    "}\n",
    "\n",
    "float Parasite::getResistance(){\n",
    "    return resistance;\n",
    "}\n",
    "\n",
    "ostream& operator<<(ostream& output, Parasite* p) {\n",
    "    output << \"This parasite has reporoduction rate: \" << p->getReproductionRate()*100\n",
    "         << \"%, and resistance rate: \" << p->getResistance()*100 << endl;\n",
    "    return output;\n",
    "}"
   ]
  },
  {
   "cell_type": "markdown",
   "metadata": {},
   "source": [
    "## `Animal.h`\n",
    "\n",
    "We suppose to implement **has-a** relation between `Animal` and `Parasite` classes. This is a composition of object of corresponding classes.\n",
    "- Add the collection of the `Parasite` objects into the `Animal` class (line 14)\n",
    "- Add the constructor and destructor to handle initialization and destruction of `Parasite` objects (line 17-18)\n",
    "- Overload `[]` operator to access `Parasite` objects in the `Animal` object (line 21)\n",
    "- Add output stream friend function declaration (line 11)"
   ]
  },
  {
   "cell_type": "code",
   "execution_count": null,
   "metadata": {},
   "outputs": [],
   "source": [
    "#ifndef ANIMAL_H\n",
    "#define ANIMAL_H\n",
    "\n",
    "#include \"Parasite.h\"\n",
    "#include <iostream>\n",
    "#include <vector>\n",
    "using namespace std;\n",
    "\n",
    "class Animal {\n",
    "\n",
    "    friend ostream& operator<<(ostream&, Animal*);\n",
    "\n",
    "    float immunity;       // degree of immunity, in %\n",
    "    vector<Parasite* > parasites; // collection of parasites\n",
    "\n",
    "public:\n",
    "    Animal(float initImmunity, int initNumViruses);\n",
    "    ~Animal();\n",
    "\n",
    "    // overloaded operator\n",
    "    Parasite* operator[](int);\n",
    "\n",
    "    float getImmunity();\n",
    "    int getParasiteNumber();\n",
    "\n",
    "    void takeDrug();\n",
    "};\n",
    "\n",
    "#endif"
   ]
  },
  {
   "cell_type": "markdown",
   "metadata": {},
   "source": [
    "## `Animal.cpp`"
   ]
  },
  {
   "cell_type": "code",
   "execution_count": null,
   "metadata": {},
   "outputs": [],
   "source": [
    "#include \"Animal.h\"\n",
    "\n",
    "Animal::Animal(float initImmunity, int initNumParasiteCells) : immunity(initImmunity)\n",
    "{\n",
    "    // create parasite object in the animal object\n",
    "    for (int i=0; i<initNumParasiteCells; ++i)\n",
    "        parasites.push_back(new Parasite{0.1, 0.1});\n",
    "    cout << \"Animal object is created\" << endl;\n",
    "}\n",
    "\n",
    "Animal::~Animal()\n",
    "{\n",
    "    // delete parasite objects fromthe animal object\n",
    "    for (int i=0; i<getParasiteNumber(); ++i)\n",
    "        delete parasites[i];\n",
    "    parasites.resize(0);\n",
    "    cout << \"Animal object is deleted\" << endl;\n",
    "}\n",
    "\n",
    "Parasite* Animal::operator[](int i)\n",
    "{\n",
    "    // check it index within the range\n",
    "    if(i >= 0 && i < getParasiteNumber())\n",
    "        return parasites[i];\n",
    "    return nullptr;\n",
    "}\n",
    "\n",
    "\n",
    "float Animal::getImmunity(){\n",
    "    return immunity;\n",
    "}\n",
    "\n",
    "int Animal::getParasiteNumber(){\n",
    "    return parasites.size();\n",
    "}\n",
    "\n",
    "ostream& operator<<(ostream& output, Animal* a) {\n",
    "    output << \"This animal has immunity rate: \" << a->getImmunity()*100\n",
    "           << \"%, and \" << a->getParasiteNumber() << \" parasites\"<< endl;\n",
    "    return output;\n",
    "}"
   ]
  },
  {
   "cell_type": "markdown",
   "metadata": {},
   "source": [
    "## `Simulation.cpp`\n",
    "\n",
    "Test:\n",
    "- creation of the `Animal` object (line 8)\n",
    "- output an animal object to console (line 10)\n",
    "- access to individual parasites (line 13). !!!Note: cannot use operators with pointers!!!\n",
    "- output a parasite object to console (line 13)\n",
    "- destroy an animal object"
   ]
  },
  {
   "cell_type": "code",
   "execution_count": null,
   "metadata": {},
   "outputs": [],
   "source": [
    "#include \"Parasite.h\"\n",
    "#include \"Animal.h\"\n",
    "#include <iostream>\n",
    "using namespace std;\n",
    "\n",
    "int main(){\n",
    "    // Create an animal with 30% immunity rate and 10 parasites\n",
    "    Animal* animal = new Animal{0.3, 5};\n",
    "\n",
    "    cout << animal; // print animal object\n",
    "    cout << \"Animal has parasites:\" << endl;\n",
    "    for (int i=0; i < animal->getParasiteNumber(); i++){\n",
    "        cout << (*animal)[i]; // print parasite objects\n",
    "    }\n",
    "\n",
    "    // Destroy parasite object\n",
    "    delete animal;\n",
    "\n",
    "    return 0;\n",
    "}"
   ]
  },
  {
   "cell_type": "markdown",
   "metadata": {},
   "source": [
    "# Compilation\n",
    "\n",
    "Using GCC C++ compiler, compile and run the simulation program with following commands:\n",
    "- `g++ -std=c++14 -o simulation Animal.cpp Parasite.cpp Simulation.cpp`\n",
    "- `./simulation`\n"
   ]
  },
  {
   "cell_type": "markdown",
   "metadata": {},
   "source": [
    "## Simulation Output \n",
    "```\n",
    "$ ./simulation                                                                                               \n",
    "Parasite is born with 10% reproduction rate, and 10% resistance\n",
    "Parasite is born with 10% reproduction rate, and 10% resistance\n",
    "Parasite is born with 10% reproduction rate, and 10% resistance\n",
    "Parasite is born with 10% reproduction rate, and 10% resistance\n",
    "Parasite is born with 10% reproduction rate, and 10% resistance\n",
    "Animal object is created\n",
    "This animal has immunity rate: 30%, and 5 parasites\n",
    "Animal has parasites:\n",
    "This parasite has reporoduction rate: 10%, and resistance rate: 10\n",
    "This parasite has reporoduction rate: 10%, and resistance rate: 10\n",
    "This parasite has reporoduction rate: 10%, and resistance rate: 10\n",
    "This parasite has reporoduction rate: 10%, and resistance rate: 10\n",
    "This parasite has reporoduction rate: 10%, and resistance rate: 10\n",
    "Parasite object is deleted\n",
    "Parasite object is deleted\n",
    "Parasite object is deleted\n",
    "Parasite object is deleted\n",
    "Parasite object is deleted\n",
    "Animal object is deleted\n",
    "```"
   ]
  }
 ],
 "metadata": {
  "kernelspec": {
   "display_name": "C++14",
   "language": "C++14",
   "name": "xcpp14"
  },
  "language_info": {
   "codemirror_mode": "text/x-c++src",
   "file_extension": ".cpp",
   "mimetype": "text/x-c++src",
   "name": "c++",
   "version": "-std=c++14"
  }
 },
 "nbformat": 4,
 "nbformat_minor": 2
}
