{
 "cells": [
  {
   "cell_type": "code",
   "execution_count": 1,
   "metadata": {
    "slideshow": {
     "slide_type": "skip"
    }
   },
   "outputs": [],
   "source": [
    "#include <iostream>\n",
    "using namespace std;"
   ]
  },
  {
   "cell_type": "markdown",
   "metadata": {
    "slideshow": {
     "slide_type": "slide"
    }
   },
   "source": [
    "# Inheritance"
   ]
  },
  {
   "cell_type": "markdown",
   "metadata": {
    "slideshow": {
     "slide_type": "slide"
    }
   },
   "source": [
    "## Object-Oriented Programming\n",
    "\n",
    "Object Oriented Programming (OOP) is the third major programming paradigm.\n",
    "\n",
    "Three major language features:\n",
    "- Abstract data types\n",
    "- Inheritance\n",
    "  - Inheritance is the central theme in OOP and languages that support it\n",
    "- Polymorphism"
   ]
  },
  {
   "cell_type": "markdown",
   "metadata": {
    "slideshow": {
     "slide_type": "slide"
    }
   },
   "source": [
    "## The Concept of Abstraction\n",
    "\n",
    "- An **abstraction** is a view or representation of an entity that includes only the most significant attributes\n",
    "- The concept of abstraction is fundamental in programming (and computer science)\n",
    "- Nearly all programming languages support **process abstraction** with subprograms\n",
    "- Nearly all programming languages designed since 1980 support **data abstraction**"
   ]
  },
  {
   "cell_type": "markdown",
   "metadata": {
    "slideshow": {
     "slide_type": "slide"
    }
   },
   "source": [
    "##  Data Abstraction\n",
    "\n",
    "An **abstract data type** is a user-defined data type that satisfies the following **two conditions**:\n",
    "- The representation of objects of the type is **hidden** from the program units that use these objects, so the only operations possible are those provided in the type's definition\n",
    "- The declarations of the type and the protocols of the operations on objects of the type are contained in a **single** syntactic unit.\n",
    "  \n",
    "Language requirements for ADTs  \n",
    "- A syntactic unit in which to encapsulate the type definition\n",
    "- A method of making type names and subprogram headers visible to clients, while hiding actual definitions\n",
    "- Some primitive operations must be built into the language processor"
   ]
  },
  {
   "cell_type": "markdown",
   "metadata": {
    "slideshow": {
     "slide_type": "slide"
    }
   },
   "source": [
    "## Inheritance\n",
    "\n",
    "Productivity increases can come from **reuse**\n",
    "- ADTs are difficult to reuse - always need changes\n",
    "- All ADTs are independent and at the same level\n",
    "\n",
    "**Inheritance** allows new classes *defined in terms of existing ones*\n",
    "- by allowing them to inherit common parts\n",
    "\n",
    "Inheritance addresses both of the above concerns\n",
    "- reuse ADTs after minor changes\n",
    "- define classes in a hierarchy"
   ]
  },
  {
   "cell_type": "markdown",
   "metadata": {
    "slideshow": {
     "slide_type": "subslide"
    }
   },
   "source": [
    "## Object-Oriented Concepts: Inheritance\n",
    "\n",
    "Inheritance can be complicated by access controls to encapsulated entities\n",
    "- A class can hide entities from its subclasses\n",
    "- A class can hide entities from its clients\n",
    "- A class can also hide entities for its clients while allowing its subclasses to see them\n",
    "\n",
    "Besides inheriting methods as is, a class can modify an inherited method\n",
    "- The new one **overrides** the inherited one\n",
    "- The method in the parent is **overriden**\n",
    "\n",
    "One disadvantage of inheritance for reuse: \n",
    "- Creates interdependencies among classes that complicate maintenance"
   ]
  },
  {
   "cell_type": "markdown",
   "metadata": {
    "slideshow": {
     "slide_type": "subslide"
    }
   },
   "source": [
    "Three ways a class can differ from its parent:\n",
    "1. The parent class can define some of its variables or methods to have private access, which means they will not be visible in the subclass\n",
    "2. The subclass can add variables and/or methods to those inherited from the parent\n",
    "3. The subclass can modify the behavior of one or more of its inherited methods."
   ]
  },
  {
   "cell_type": "markdown",
   "metadata": {
    "slideshow": {
     "slide_type": "subslide"
    }
   },
   "source": [
    "There are two kinds of variables in a class:\n",
    "- Class variables - one/class\n",
    "- Instance variables - one/object\n",
    "\n",
    "There are two kinds of methods in a class:\n",
    "- Class methods - accept messages to the class\n",
    "- Instance methods - accept messages to objects"
   ]
  },
  {
   "cell_type": "markdown",
   "metadata": {
    "slideshow": {
     "slide_type": "slide"
    }
   },
   "source": [
    "## Inheritance in C++\n",
    "\n",
    "\n",
    "- You can designate that a new class should **inherit** the members of an existing class.\n",
    "- This existing class is called the **base class**, and the new class is referred to as the **derived class**.\n",
    "- A derived class represents a more **specialized** group of objects.\n",
    "- C++ offers *public, protected and private* inheritance.\n",
    "- With public inheritance, every object of a derived class is also an object of that derived class’s base class.\n",
    "- Base-class objects are **not** objects of their derived classes.\n",
    "- With object-oriented programming, you focus on the commonalities among objects in the system rather than on the special cases.\n"
   ]
  },
  {
   "cell_type": "markdown",
   "metadata": {
    "slideshow": {
     "slide_type": "slide"
    }
   },
   "source": [
    "## Inheritance as a Relation\n",
    "\n",
    "<div>\n",
    "<div style=\"width:70%; float: left; padding: 1em;\">\n",
    "    \n",
    "- We distinguish between the **is-a** relationship and the **has-a** relationship.\n",
    "\n",
    "\n",
    "- The <span style=\"color:red;font-weight: bold;\">is-a</span> relationship represents <span style=\"color:red;font-weight: bold;\">inheritance</span>.\n",
    "\n",
    "\n",
    "- In an **is-a** relationship, an object of a **derived class** also can be treated as an object of its **base class**.\n",
    "\n",
    "\n",
    "- By contrast, the **has-a** relationship represents **composition**.\n",
    "\n",
    "</div>\n",
    "<div style=\"width:30%; float: left;\">\n",
    "    <img src=\"img/Hierarchies.png\"/>\n",
    "</div>\n",
    "</div>\n"
   ]
  },
  {
   "cell_type": "markdown",
   "metadata": {
    "slideshow": {
     "slide_type": "slide"
    }
   },
   "source": [
    "## Base and Derived Classes\n",
    "\n",
    "Several simple examples of base classes and derived classes.\n",
    "- Base classes tend to be more general and derived classes tend to be more specific.\n",
    "\n",
    "| Base class | Derived classes |\n",
    "|------------|:----------------|\n",
    "|Student     | GraduateStudent, UndergraduateStudent|\n",
    "|Shape| Circle, Triangle, Rectangle, Sphere, Cube|\n",
    "|Loan| CarLoan, HomeImprovementLoan, MortgageLoan|\n",
    "|Employee| Faculty, Staff|\n",
    "|Account| CheckingAccount, SavingsAccount|\n",
    "\n",
    "- Because every derived-class object **is an object** of its base class, and one base class can have **many** derived classes, the set of objects represented by a base class typically is **larger** than the set of objects represented by any of its derived classes.\n",
    "\n",
    "- Inheritance relationships form **class hierarchies**."
   ]
  },
  {
   "cell_type": "markdown",
   "metadata": {
    "slideshow": {
     "slide_type": "slide"
    }
   },
   "source": [
    "## Base and Derived Classes (cont.)\n",
    "\n",
    "- A base class exists in a hierarchical relationship with its derived classes.\n",
    "- Although classes can exist independently, once they’re employed in inheritance relationships, they become affiliated with other classes.\n",
    "- A class becomes either a base class—supplying members to other classes, a derived class—inheriting its members from other classes, or both."
   ]
  },
  {
   "cell_type": "markdown",
   "metadata": {
    "slideshow": {
     "slide_type": "slide"
    }
   },
   "source": [
    "## Example: Community Member\n",
    "\n",
    "<div>\n",
    "<div style=\"width:50%; float: left; padding: 1em;\">\n",
    "\n",
    "Let’s develop a simple inheritance hierarchy with five levels.\n",
    "\n",
    "- A university community has thousands of `CommunityMembers`.\n",
    "- `Employees` are either `Faculty` or `Staff`.\n",
    "- `Faculty` are either `Administrators` or `Teachers`.\n",
    "- Some `Administrators`, however, are also `Teachers`.\n",
    "\n",
    "We’ve used multiple inheritance to form class AdministratorTeacher.\n",
    "</div>\n",
    "<div style=\"width:50%; float: right;\">\n",
    "    <img src=\"img/Inheritance1.png\"/>\n",
    "</div>\n",
    "</div>\n",
    "\n"
   ]
  },
  {
   "cell_type": "markdown",
   "metadata": {
    "slideshow": {
     "slide_type": "slide"
    }
   },
   "source": [
    "## Example: Community Member\n",
    "\n",
    "<div>\n",
    "<div style=\"width:50%; float: left; padding: 1em;\">\n",
    "\n",
    "- With **single inheritance**, a class is derived from **one base class**.\n",
    "- With **multiple inheritance**, a derived class inherits simultaneously from **two or more (possibly unrelated) base classes**.\n",
    "\n",
    "</div>\n",
    "<div style=\"width:50%; float: right;\">\n",
    "    <img src=\"img/Inheritance1.png\"/>\n",
    "</div>\n",
    "</div>\n",
    "\n"
   ]
  },
  {
   "cell_type": "markdown",
   "metadata": {
    "slideshow": {
     "slide_type": "slide"
    }
   },
   "source": [
    "## Example: Community Member\n",
    "\n",
    "<div>\n",
    "<div style=\"width:50%; float: left; padding: 1em;\">\n",
    "\n",
    "Each arrow in the hierarchy represents an **is-a** relationship.\n",
    "- As we follow the arrows in this class hierarchy, we can state *an Employee is a CommunityMember* and *a Teacher is a Faculty member*.\n",
    "- `CommunityMember` is the **direct base class** of `Employee`, `Student` and `Alumnus`.\n",
    "- `CommunityMember` is an **indirect base class** of all the other classes in the diagram.\n",
    "\n",
    "</div>\n",
    "<div style=\"width:50%; float: right;\">\n",
    "    <img src=\"img/Inheritance1.png\"/>\n",
    "</div>\n",
    "</div>\n",
    "<div>\n",
    "<div style=\"width:100%;float: left; padding: 1em;\">\n",
    "Starting from the bottom, you can follow and apply the is-a relationship upto the topmost base class.\n",
    "    \n",
    "- An `AdministratorTeacher` is an `Administrator`, is a `Faculty` member, is an `Employee` and is a `CommunityMember`.\n",
    "</div>\n",
    "<div>"
   ]
  },
  {
   "cell_type": "markdown",
   "metadata": {
    "slideshow": {
     "slide_type": "slide"
    }
   },
   "source": [
    "## Example: Shape\n",
    "\n",
    "<div>\n",
    "<div style=\"width:50%; float: left; padding: 1em;\">\n",
    "\n",
    "Consider the Shape inheritance hierarchy:\n",
    "- Begins with **base class** `Shape`.\n",
    "- Classes `TwoDimensionalShape` and `ThreeDimensionalShape` **derive** from base class `Shape`\n",
    "    - `Shapes` are either `TwoDimensionalShapes` or `Three-DimensionalShapes`.\n",
    "- The third level of this hierarchy contains some more specific types of `TwoDimensionalShapes` and `ThreeDimensionalShapes`.\n",
    "\n",
    "</div>\n",
    "<div style=\"width:50%; float: right;\">\n",
    "    <img src=\"img/Inheritance2.png\"/>\n",
    "</div>\n",
    "</div>"
   ]
  },
  {
   "cell_type": "code",
   "execution_count": 4,
   "metadata": {
    "slideshow": {
     "slide_type": "slide"
    }
   },
   "outputs": [],
   "source": [
    "class Counter //base class\n",
    "{\n",
    "protected:  //NOTE: not private\n",
    "    unsigned int count; // counter\n",
    "public:\n",
    "    Counter() : count(0) { }      // no-arg constructor        \n",
    "    Counter(int c) : count(c) { } // 1-arg constructor\n",
    "    \n",
    "    unsigned int getCount() const { //return count\n",
    "        return count; \n",
    "    }\n",
    "    Counter& operator++ (){        //incr count (prefix)\n",
    "        ++count;\n",
    "        return *this;\n",
    "    }\n",
    "};"
   ]
  },
  {
   "cell_type": "code",
   "execution_count": 7,
   "metadata": {
    "slideshow": {
     "slide_type": "fragment"
    }
   },
   "outputs": [
    {
     "name": "stdout",
     "output_type": "stream",
     "text": [
      "Counter state: 0\n",
      "Counter state: 3\n"
     ]
    }
   ],
   "source": [
    "{\n",
    "    Counter c;\n",
    "    cout << \"Counter state: \" << c.getCount() << endl;\n",
    "    ++c; ++c; ++c;\n",
    "    cout << \"Counter state: \" << c.getCount() << endl;\n",
    "}"
   ]
  },
  {
   "cell_type": "code",
   "execution_count": 8,
   "metadata": {
    "slideshow": {
     "slide_type": "slide"
    }
   },
   "outputs": [],
   "source": [
    "class CountDn : public Counter // derived class\n",
    "{\n",
    "public:\n",
    "    Counter& operator-- () {   // decr count (prefix)\n",
    "        --count;\n",
    "        return *this;\n",
    "    }\n",
    "};"
   ]
  },
  {
   "cell_type": "code",
   "execution_count": 9,
   "metadata": {
    "slideshow": {
     "slide_type": "fragment"
    }
   },
   "outputs": [
    {
     "name": "stdout",
     "output_type": "stream",
     "text": [
      "Counter state: 0\n",
      "Counter state: 3\n",
      "Counter state: 1\n"
     ]
    }
   ],
   "source": [
    "{\n",
    "    CountDn c;\n",
    "    cout << \"Counter state: \" << c.getCount() << endl;\n",
    "    ++c; ++c; ++c;\n",
    "    cout << \"Counter state: \" << c.getCount() << endl;\n",
    "    --c; --c;\n",
    "    cout << \"Counter state: \" << c.getCount() << endl;\n",
    "}"
   ]
  },
  {
   "cell_type": "markdown",
   "metadata": {
    "slideshow": {
     "slide_type": "slide"
    }
   },
   "source": [
    "## Specifying the Derived Class\n",
    "\n",
    "The specification for a new class, `CountDn`\n",
    "- This class incorporates a new function, `operator--()`, which decrements the `count`.\n",
    "- the new `CountDn` class **inherits** all the features of the `Counter` class.\n",
    "- `CountDn` doesn't need a **constructor** or the **getCount()** or **operator++()** functions, because\n",
    "these already exist in `Counter`.\n",
    "\n",
    "The first line of `CountDn` specifies that it is **derived** from `Counter`:\n",
    "\n",
    "```c++\n",
    "class CountDn : public Counter\n",
    "```\n",
    "\n",
    "Here we use a **single colon**, followed by the keyword **public** and the **name of the base class** `Counter`.\n",
    "- This sets up the relationship between the classes."
   ]
  }
 ],
 "metadata": {
  "celltoolbar": "Slideshow",
  "kernelspec": {
   "display_name": "C++14",
   "language": "C++14",
   "name": "xcpp14"
  },
  "language_info": {
   "codemirror_mode": "text/x-c++src",
   "file_extension": ".cpp",
   "mimetype": "text/x-c++src",
   "name": "c++",
   "version": "-std=c++14"
  }
 },
 "nbformat": 4,
 "nbformat_minor": 2
}
