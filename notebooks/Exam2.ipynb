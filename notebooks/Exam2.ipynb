{
 "cells": [
  {
   "cell_type": "markdown",
   "metadata": {},
   "source": [
    "# Exam 2"
   ]
  },
  {
   "cell_type": "markdown",
   "metadata": {},
   "source": [
    "# Part 2\n",
    "\n",
    "**Problem:** For each of the following code snippets, please indicate if the code shown would\n",
    "\n",
    "- fail to compile,\n",
    "- compile, but result in an error at runtime, or\n",
    "- execute without an error. In this case, indicate what output you would see."
   ]
  },
  {
   "cell_type": "code",
   "execution_count": 2,
   "metadata": {},
   "outputs": [],
   "source": [
    "class Plant {\n",
    "public:\n",
    "virtual void smell() { cout << \"No smell\" << endl; }\n",
    "};\n",
    "class Flower: public Plant {\n",
    "public:\n",
    "void smell() { cout << \"I smell good!\" << endl; }\n",
    "};\n",
    "class Fruit: public Plant {\n",
    "public:\n",
    "void smell() { cout << \"I smell yummy!\" << endl; }\n",
    "};"
   ]
  },
  {
   "cell_type": "markdown",
   "metadata": {},
   "source": [
    "### Solution"
   ]
  },
  {
   "cell_type": "code",
   "execution_count": 3,
   "metadata": {},
   "outputs": [
    {
     "name": "stdout",
     "output_type": "stream",
     "text": [
      "I smell good!\n"
     ]
    }
   ],
   "source": [
    "Flower* rose = new Flower();\n",
    "rose->smell();"
   ]
  },
  {
   "cell_type": "code",
   "execution_count": 4,
   "metadata": {},
   "outputs": [
    {
     "name": "stdout",
     "output_type": "stream",
     "text": [
      "I smell yummy!\n"
     ]
    }
   ],
   "source": [
    "Fruit* orange = new Fruit();\n",
    "orange->smell();"
   ]
  },
  {
   "cell_type": "code",
   "execution_count": 5,
   "metadata": {},
   "outputs": [
    {
     "name": "stderr",
     "output_type": "stream",
     "text": [
      "\u001b[1minput_line_12:2:9: \u001b[0m\u001b[0;1;31merror: \u001b[0m\u001b[1mcannot initialize a variable of type 'Fruit *' with an rvalue of type 'Plant *'\u001b[0m\n",
      " Fruit* oakTree = new Plant();\n",
      "\u001b[0;1;32m        ^         ~~~~~~~~~~~\n",
      "\u001b[0m"
     ]
    },
    {
     "ename": "Interpreter Error",
     "evalue": "",
     "output_type": "error",
     "traceback": [
      "Interpreter Error: "
     ]
    }
   ],
   "source": [
    "Fruit* oakTree = new Plant();\n",
    "oakTree->smell();"
   ]
  },
  {
   "cell_type": "code",
   "execution_count": 8,
   "metadata": {},
   "outputs": [
    {
     "name": "stderr",
     "output_type": "stream",
     "text": [
      "\u001b[1minput_line_15:3:2: \u001b[0m\u001b[0;1;31merror: \u001b[0m\u001b[1mno matching conversion for C-style cast from 'Fruit' to 'Flower'\u001b[0m\n",
      "((Flower)banana).smell();\n",
      "\u001b[0;1;32m ^~~~~~~~~~~~~~\n",
      "\u001b[0m\u001b[1minput_line_9:6:8: \u001b[0m\u001b[0;1;30mnote: \u001b[0mcandidate constructor (the implicit copy constructor) not viable: no known conversion from 'Fruit' to 'const Flower' for 1st argument\u001b[0m\n",
      " class Flower: public Plant {\n",
      "\u001b[0;1;32m       ^\n",
      "\u001b[0m\u001b[1minput_line_9:6:8: \u001b[0m\u001b[0;1;30mnote: \u001b[0mcandidate constructor (the implicit move constructor) not viable: no known conversion from 'Fruit' to 'Flower' for 1st argument\u001b[0m\n",
      "\u001b[1minput_line_9:6:8: \u001b[0m\u001b[0;1;30mnote: \u001b[0mcandidate constructor (the implicit default constructor) not viable: requires 0 arguments, but 1 was provided\u001b[0m\n",
      "\u001b[1minput_line_15:2:8: \u001b[0m\u001b[0;1;31merror: \u001b[0m\u001b[1mredefinition of 'banana'\u001b[0m\n",
      " Fruit banana;\n",
      "\u001b[0;1;32m       ^\n",
      "\u001b[0m\u001b[1minput_line_14:2:8: \u001b[0m\u001b[0;1;30mnote: \u001b[0mprevious definition is here\u001b[0m\n",
      " Fruit banana;\n",
      "\u001b[0;1;32m       ^\n",
      "\u001b[0m"
     ]
    },
    {
     "ename": "Interpreter Error",
     "evalue": "",
     "output_type": "error",
     "traceback": [
      "Interpreter Error: "
     ]
    }
   ],
   "source": [
    "Fruit banana;\n",
    "((Flower)banana).smell();"
   ]
  },
  {
   "cell_type": "code",
   "execution_count": 7,
   "metadata": {},
   "outputs": [
    {
     "name": "stdout",
     "output_type": "stream",
     "text": [
      "No smell\n"
     ]
    }
   ],
   "source": [
    "Fruit banana;\n",
    "((Plant)banana).smell();"
   ]
  },
  {
   "cell_type": "code",
   "execution_count": 9,
   "metadata": {},
   "outputs": [
    {
     "name": "stderr",
     "output_type": "stream",
     "text": [
      "\u001b[1minput_line_16:3:8: \u001b[0m\u001b[0;1;31merror: \u001b[0m\u001b[1mno viable conversion from 'Plant' to 'Flower'\u001b[0m\n",
      "Flower myViolet = *violet;\n",
      "\u001b[0;1;32m       ^          ~~~~~~~\n",
      "\u001b[0m\u001b[1minput_line_9:6:8: \u001b[0m\u001b[0;1;30mnote: \u001b[0mcandidate constructor (the implicit copy constructor) not viable: cannot bind base class object of type 'Plant' to derived class reference 'const Flower &' for\n",
      "      1st argument\u001b[0m\n",
      " class Flower: public Plant {\n",
      "\u001b[0;1;32m       ^\n",
      "\u001b[0m\u001b[1minput_line_9:6:8: \u001b[0m\u001b[0;1;30mnote: \u001b[0mcandidate constructor (the implicit move constructor) not viable: cannot bind base class object of type 'Plant' to derived class reference 'Flower &&' for 1st\n",
      "      argument\u001b[0m\n"
     ]
    },
    {
     "ename": "Interpreter Error",
     "evalue": "",
     "output_type": "error",
     "traceback": [
      "Interpreter Error: "
     ]
    }
   ],
   "source": [
    "Plant* violet = new Flower();\n",
    "Flower myViolet = *violet;\n",
    "myViolet.smell();"
   ]
  },
  {
   "cell_type": "code",
   "execution_count": 6,
   "metadata": {
    "scrolled": true
   },
   "outputs": [
    {
     "name": "stderr",
     "output_type": "stream",
     "text": [
      "\u001b[1minput_line_13:3:9: \u001b[0m\u001b[0;1;31merror: \u001b[0m\u001b[1mcannot initialize a variable of type 'Flower *' with an lvalue of type 'Plant *'\u001b[0m\n",
      "Flower* myViolet1 = violet1;\n",
      "\u001b[0;1;32m        ^           ~~~~~~~\n",
      "\u001b[0m"
     ]
    },
    {
     "ename": "Interpreter Error",
     "evalue": "",
     "output_type": "error",
     "traceback": [
      "Interpreter Error: "
     ]
    }
   ],
   "source": [
    "Plant* violet1 = new Flower();\n",
    "Flower myViolet1 = violet1;\n",
    "myViolet1->smell();"
   ]
  },
  {
   "cell_type": "markdown",
   "metadata": {},
   "source": [
    "## Part 3\n",
    "\n",
    "**Problem:** Consider the following two (partial) class definitions: `Car` and `Airplane`.\n",
    "Design a new class `Vehicle` to be a base class of `Car` and `Airplane`.\n",
    "Show what you would put in the base class and how you would change the derived classes.\n",
    "\n",
    "These classes are very incomplete. You are not expected to complete them, just to show how you would use a base class to capture the information already in these derived classes.\n",
    "\n",
    "```c++\n",
    "class Car {\n",
    "    const int TOP_SPEED = 95;\n",
    "    int speed;\n",
    "    string licensePlateNumber;\n",
    "    int passengers;\n",
    "public:\n",
    "    void move();\n",
    "};\n",
    "\n",
    "class Airplane  {\n",
    "    const int TOP_SPEED = 500;\n",
    "    int speed;\n",
    "    int passengers;\n",
    "    string airline;\n",
    "public:\n",
    "    void move();\n",
    "};\n",
    "```"
   ]
  },
  {
   "cell_type": "markdown",
   "metadata": {},
   "source": [
    "### Solution"
   ]
  },
  {
   "cell_type": "code",
   "execution_count": null,
   "metadata": {},
   "outputs": [],
   "source": [
    "class Vehicle {\n",
    "protected:\n",
    "    const int topSpeed;\n",
    "    int speed;\n",
    "    int passengers;\n",
    "public:\n",
    "    Vehicle(int top): topSpeed{top}{}\n",
    "    virtual void move() = 0;\n",
    "};\n",
    "\n",
    "class Car : public Vehicle {\n",
    "    string licensePlateNumber;\n",
    "public:\n",
    "    Car() : Vehicle{95} {}\n",
    "    void move() {}\n",
    "};\n",
    "\n",
    "class Airplane : public Vehicle {\n",
    "    string airline;\n",
    "public:\n",
    "    Airplane() : Vehicle{500} {}\n",
    "    void move() {}\n",
    "};"
   ]
  }
 ],
 "metadata": {
  "kernelspec": {
   "display_name": "C++14",
   "language": "C++14",
   "name": "xcpp14"
  },
  "language_info": {
   "codemirror_mode": "text/x-c++src",
   "file_extension": ".cpp",
   "mimetype": "text/x-c++src",
   "name": "c++",
   "version": "-std=c++14"
  }
 },
 "nbformat": 4,
 "nbformat_minor": 2
}
