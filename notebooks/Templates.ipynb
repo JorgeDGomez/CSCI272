{
 "cells": [
  {
   "cell_type": "code",
   "execution_count": 1,
   "metadata": {
    "slideshow": {
     "slide_type": "skip"
    }
   },
   "outputs": [],
   "source": [
    "#include <vector>\n",
    "#include <iostream>\n",
    "#include <stdexcept> // stdexcept header contains runtime_error\n",
    "using namespace std; "
   ]
  },
  {
   "cell_type": "markdown",
   "metadata": {
    "slideshow": {
     "slide_type": "slide"
    }
   },
   "source": [
    "# Templates"
   ]
  },
  {
   "cell_type": "markdown",
   "metadata": {
    "slideshow": {
     "slide_type": "slide"
    }
   },
   "source": [
    "## Intro\n",
    "\n",
    "- Function templates enable you to conveniently specify a variety of related (overloaded) functions - called **function-template specializations**.\n",
    "- Class templates enable you to conveniently specify a variety of related classes - called **class-template specializations**.\n",
    "- Programming with templates is known as **generic programming**.\n",
    "- Function templates and class templates are like stencils out of which we trace shapes\n",
    "    - function-template specializations and class-template specializations are like the separate tracings that all have the same shape, but could, for example, be drawn in different colors , line thickneses and textures."
   ]
  },
  {
   "cell_type": "markdown",
   "metadata": {
    "slideshow": {
     "slide_type": "slide"
    }
   },
   "source": [
    "## Class Templates\n",
    "\n",
    "- Class templates are called **parameterized types**\n",
    "    - They require one or more type parameters to specify how to customize a generic class template to form a class-template specialization.\n",
    "    - When a particular specialization is needed, you use a concise, simple notation, and the compiler writes the specialization source code.    \n",
    "- Class templates encourage software reusability by enabling a variety of type-specific class template specializations to be instantiated from a single class template."
   ]
  },
  {
   "cell_type": "markdown",
   "metadata": {
    "slideshow": {
     "slide_type": "slide"
    }
   },
   "source": [
    "## Class Templates: Example"
   ]
  },
  {
   "cell_type": "code",
   "execution_count": 2,
   "metadata": {
    "slideshow": {
     "slide_type": "fragment"
    }
   },
   "outputs": [],
   "source": [
    "template <typename T>\n",
    "class Animal {\n",
    "    float immunity;      // degree of immunity, in %\n",
    "    vector<T> parasites; // collection of parasites\n",
    "public:\n",
    "    Animal(float initImmunity): immunity{initImmunity} {};\n",
    "    \n",
    "    // access to encapsulated fields\n",
    "    float getImmunity() { return immunity; }\n",
    "    int getParasiteNumber() { return parasites.size(); }\n",
    "    \n",
    "    void addParasite(const T& p) {\n",
    "        parasites.push_back(p);\n",
    "    }\n",
    "        \n",
    "    T& getParasite(unsigned int i){\n",
    "        if (i < 0 || i >= getParasiteNumber())\n",
    "            throw runtime_error{\"invalid parasite index\"};\n",
    "        return parasites[i];\n",
    "    }\n",
    "};"
   ]
  },
  {
   "cell_type": "markdown",
   "metadata": {
    "slideshow": {
     "slide_type": "slide"
    }
   },
   "source": [
    "## Class Templates: Syntax\n",
    "\n",
    "- The class-template definition looks like a conventional class definition, with a few key differences.\n",
    "```c++\n",
    "template <typename T>\n",
    "```\n",
    "    - Class templates begin with `template` followed by a list of template parameters enclosed in angle brackets (< and >).\n",
    "    - Each template parameter that represents a **type** must be preceded by either of the interchangeable keywords `typename` or `class`.\n",
    "    - `T` acts as a placeholder for the element type.\n",
    "        - Can be any valid identifier\n",
    "    - Type parameters names must be **unique** inside a template definition."
   ]
  },
  {
   "cell_type": "markdown",
   "metadata": {
    "slideshow": {
     "slide_type": "slide"
    }
   },
   "source": [
    "## Class Templates: Member Functions\n",
    "\n",
    "- The member-function definitions of a class template are **function templates**\n",
    "    - but are not preceded with the template keyword and template parameters in angle brackets (< and >) when they're defined within the class template's body.\n",
    "- They do use the class template's template parameter `T` to represent the element type.\n",
    "- `Animal` class template does not define it's own constructors\n",
    "    - the default constructor provided by the compiler will invoke the `vector` default constructor."
   ]
  },
  {
   "cell_type": "markdown",
   "metadata": {
    "slideshow": {
     "slide_type": "slide"
    }
   },
   "source": [
    "## Outside Declaration of Class Template's Member Functions\n",
    "\n",
    "- Member-function definitions can appear outside a class template definition.\n",
    "- If so, each must begin with `template` followed by the **same set of template parameters** as the class template.\n",
    "- In addition, the member functions must be **qualified with the class name and scope resolution operator**.\n",
    "\n",
    "```c++\n",
    "template <typename T>\n",
    "void Animal::addParasite(const T& p) {\n",
    "    parasites.push_back(p);\n",
    "}\n",
    "```"
   ]
  },
  {
   "cell_type": "code",
   "execution_count": 3,
   "metadata": {
    "slideshow": {
     "slide_type": "slide"
    }
   },
   "outputs": [
    {
     "name": "stdout",
     "output_type": "stream",
     "text": [
      "Parasite a1: P\n",
      "Parasite a2: Q\n",
      "Parasite b1: 10\n",
      "Parasite b2: 20\n"
     ]
    }
   ],
   "source": [
    "{\n",
    "    Animal<char> a{0.1};\n",
    "    a.addParasite('P');\n",
    "    a.addParasite('Q');\n",
    "    \n",
    "    cout << \"Parasite a1: \" << a.getParasite(0) << endl;\n",
    "    cout << \"Parasite a2: \" << a.getParasite(1) << endl;\n",
    "    \n",
    "    Animal<int> b{0.1};\n",
    "    b.addParasite(10);\n",
    "    b.addParasite(20);\n",
    "    \n",
    "    cout << \"Parasite b1: \" << b.getParasite(0) << endl;\n",
    "    cout << \"Parasite b2: \" << b.getParasite(1) << endl;\n",
    "}"
   ]
  },
  {
   "cell_type": "markdown",
   "metadata": {
    "slideshow": {
     "slide_type": "slide"
    }
   },
   "source": [
    "## Nontype Parameters\n",
    "\n",
    "- Class template `Animal` used only a type parameter in its template declaration.\n",
    "- It's also possible to use **nontype template parameters**, which can have default arguments and are treated as constants.\n",
    "- For example, the C++ standard’s array class template begins with the template declaration:\n",
    "```c++\n",
    "template <class T, size_t N>\n",
    "```    \n",
    "    - Recall that keywords class and typename are interchangeable in template declarations."
   ]
  },
  {
   "cell_type": "markdown",
   "metadata": {
    "slideshow": {
     "slide_type": "slide"
    }
   },
   "source": [
    "## Nontype Parameters: Example\n",
    "\n",
    "- A declaration creates a 100-element array of doubles class-template specialization, then uses it to instantiate the object `fixeSizeArray`.\n",
    "\n",
    "```c++\n",
    "array<double, 100> fixeSizeArray;\n",
    "```\n",
    "\n",
    "- The array class template encapsulates a **built-in array**.\n",
    "- When you create an array class-template specialization, the array's built-in array data member has the type and size specified in the declaration."
   ]
  }
 ],
 "metadata": {
  "celltoolbar": "Slideshow",
  "kernelspec": {
   "display_name": "C++14",
   "language": "C++14",
   "name": "xcpp14"
  },
  "language_info": {
   "codemirror_mode": "text/x-c++src",
   "file_extension": ".cpp",
   "mimetype": "text/x-c++src",
   "name": "c++",
   "version": "-std=c++14"
  }
 },
 "nbformat": 4,
 "nbformat_minor": 2
}
