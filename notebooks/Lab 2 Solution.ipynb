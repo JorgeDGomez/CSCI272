{
 "cells": [
  {
   "cell_type": "code",
   "execution_count": 1,
   "metadata": {},
   "outputs": [],
   "source": [
    "#include <iostream>\n",
    "#include <cmath>\n",
    "#include <vector>\n",
    "using namespace std;"
   ]
  },
  {
   "cell_type": "markdown",
   "metadata": {},
   "source": [
    "# Lab 2: Solution"
   ]
  },
  {
   "cell_type": "markdown",
   "metadata": {},
   "source": [
    "## Problem\n",
    "\n",
    "Calculate a **norm** for various vector spaces. A **norm** is a function that assigns a strictly positive length or size to each vector in a vector space, except for the zero vector, which is assigned a length of zero.\n",
    "\n",
    "For vector space $V$, a **norm** on $V$ is a nonnegative-valued scalar function $p: V \\to [0,+\\infty)$.\n",
    "\n",
    "You can use this knowledge to calculate `norm` for various vector spaces that are presented as a hierarchy of classes `Real`, `Complex`, `Polynomial`, and `Vector`."
   ]
  },
  {
   "cell_type": "markdown",
   "metadata": {},
   "source": [
    "## Rubric\n",
    "\n",
    "Write a program that accomplishes each of the following:\n",
    "\n",
    "- Create a user-defined **abstract** class `Group` that has two pure functions (5 pts):\n",
    "    - `to_string` which returns a string representation of the class object\n",
    "    - `norm` which returns a norm of the class object    \n",
    "- Create a user-defined class `Real` from `Group` that has a *protected* data member that would contain a value of the real number (10 pts).\n",
    "    - Create a constructor that accepts one parameter which is used to initialize a class object.\n",
    "    - Implement necessary methods.\n",
    "- Derive a class `Complex` from `Real` and add additional data member for the imaginary part of the number (10 pts).\n",
    "    - Create a constructor that accepts two parameters which are used to initialize a class object.\n",
    "    - Implement necessary methods.\n",
    "- Derive a class `Polynomial` from `Complex` and add additional data member for the the exponents of algebraic coefficients (10 pts).\n",
    "    - Create a constructor that accepts three parameters which are used to initialize a class object.\n",
    "    - Implement necessary methods.\n",
    "- Create a user-defined class `Vector` from `Group` that has a *protected* data member that would contain a real  vector values (10 pts).\n",
    "    - Create a constructor that accepts three parameter which are used to initialize a class object.\n",
    "    - Implement necessary methods.\n",
    "    \n",
    "**Note:** Use "
   ]
  },
  {
   "cell_type": "code",
   "execution_count": 2,
   "metadata": {},
   "outputs": [],
   "source": [
    "class Group {\n",
    "public:    \n",
    "    virtual string to_string() const = 0;\n",
    "    virtual double norm() const = 0;\n",
    "    virtual ~Group(){ cout << \"Group element destroyed.\" << endl;}\n",
    "}"
   ]
  },
  {
   "cell_type": "code",
   "execution_count": 3,
   "metadata": {},
   "outputs": [],
   "source": [
    "class Real : public Group {\n",
    "protected:    \n",
    "    // data memeber\n",
    "    double a;\n",
    "public:    \n",
    "    // constructor\n",
    "    Real(double x): a{x} {}\n",
    "    // overloaded members\n",
    "    double norm() const {\n",
    "        return a;\n",
    "    }\n",
    "    string to_string() const {\n",
    "        ostringstream output;\n",
    "        output << a;\n",
    "        return output.str();\n",
    "    }\n",
    "};"
   ]
  },
  {
   "cell_type": "code",
   "execution_count": 4,
   "metadata": {},
   "outputs": [],
   "source": [
    "class Complex : public Real {\n",
    "protected:\n",
    "    double b;\n",
    "public:\n",
    "    Complex(double x, double y): Real(x), b{y} {}\n",
    "    // overloaded members\n",
    "    double norm() const {\n",
    "        return sqrt(a*a+b*b);\n",
    "    }\n",
    "    string to_string() const {\n",
    "        ostringstream output;\n",
    "        output << a << (b > 0 ? \"+\" : \"\") << b << \"i\";\n",
    "        return output.str();\n",
    "    }\n",
    "};"
   ]
  },
  {
   "cell_type": "code",
   "execution_count": 5,
   "metadata": {},
   "outputs": [],
   "source": [
    "class Polynomial : public Complex {\n",
    "    friend ostream& operator<<(ostream&, const Polynomial&);\n",
    "protected:\n",
    "    double c;\n",
    "public:\n",
    "    // derived class constructor that uses base class constructor\n",
    "    Polynomial(double x, double y, double z): Complex(x, y), c{z} {}\n",
    "    // overloaded members\n",
    "    double norm() const {\n",
    "        return sqrt(a*a+b*b+c*c);\n",
    "    }\n",
    "    string to_string() const {\n",
    "        ostringstream output;\n",
    "        if (a != 0)\n",
    "            output << a << \"x^2\";\n",
    "        if (b != 0)\n",
    "            output << (b > 0 ? \"+\" : \"\") << b << \"x\";\n",
    "        if (c != 0)\n",
    "            output << (c > 0 ? \"+\" : \"\") << c;\n",
    "        return output.str();\n",
    "    }\n",
    "};"
   ]
  },
  {
   "cell_type": "code",
   "execution_count": 6,
   "metadata": {},
   "outputs": [],
   "source": [
    "class Vector : public Group {\n",
    "    vector<double> v;\n",
    "public:\n",
    "    Vector(double a, double b, double c){\n",
    "        v.push_back(a);\n",
    "        v.push_back(b); \n",
    "        v.push_back(c); \n",
    "    }\n",
    "    ~Vector() {\n",
    "        cout << \"Vector destroyed.\" << endl;\n",
    "        v.clear();\n",
    "    }\n",
    "    // overloaded members\n",
    "    double norm() const {\n",
    "        double sum = 0.0;\n",
    "        for(auto e : v)\n",
    "            sum += e*e;\n",
    "        return sqrt(sum);\n",
    "    }\n",
    "    string to_string() const {\n",
    "        ostringstream output;\n",
    "        output << \"[\";\n",
    "        for(auto e : v)\n",
    "            output << e << \" \";  \n",
    "        long pos = output.tellp();\n",
    "        output.seekp(pos-1);\n",
    "        output << \"]\";\n",
    "        return output.str();\n",
    "    }\n",
    "}"
   ]
  },
  {
   "cell_type": "markdown",
   "metadata": {},
   "source": [
    "## Test Driver"
   ]
  },
  {
   "cell_type": "code",
   "execution_count": 14,
   "metadata": {},
   "outputs": [
    {
     "name": "stdout",
     "output_type": "stream",
     "text": [
      "|3| = 3\n",
      "|3+4i| = 5\n",
      "|1x^2+2x+3| = 3.74166\n",
      "|[1 2 3]| = 3.74166\n"
     ]
    }
   ],
   "source": [
    "#include <iostream>\n",
    "#include <cmath>\n",
    "#include <vector>\n",
    "using namespace std;\n",
    "\n",
    "int main()\n",
    "{\n",
    "    vector<Group*> elements;\n",
    "    \n",
    "    elements.push_back(new Real{3});\n",
    "    elements.push_back(new Complex{3,4});\n",
    "    elements.push_back(new Polynomial{1,2,3});\n",
    "    elements.push_back(new Vector{1,2,3});\n",
    "    \n",
    "    for(auto e : elements){\n",
    "        cout << \"|\"<< e->to_string() << \"| = \"<< e->norm() << endl;\n",
    "    }\n",
    "    \n",
    "    for(auto e : elements)\n",
    "        delete e;\n",
    "    \n",
    "    return 0;\n",
    "}"
   ]
  }
 ],
 "metadata": {
  "kernelspec": {
   "display_name": "C++14",
   "language": "C++14",
   "name": "xcpp14"
  },
  "language_info": {
   "codemirror_mode": "text/x-c++src",
   "file_extension": ".cpp",
   "mimetype": "text/x-c++src",
   "name": "c++",
   "version": "-std=c++14"
  }
 },
 "nbformat": 4,
 "nbformat_minor": 2
}
