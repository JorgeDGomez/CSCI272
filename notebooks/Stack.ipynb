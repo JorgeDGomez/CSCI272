{
 "cells": [
  {
   "cell_type": "markdown",
   "metadata": {},
   "source": [
    "# Stack"
   ]
  },
  {
   "cell_type": "markdown",
   "metadata": {},
   "source": [
    "## Problem\n",
    "\n",
    "Using templates, implement a `Stack` class that can be used to store items of any type. You do not need to implement any constructors or destructors; the default constructor should be sufficient, and you will not need to use `new`. Your class should support the following 5 public functions (assuming `T` is the parameterized type which the `Stack` is storing):\n",
    "- `void Stack::push(const T &item)` - adds item to the stack\n",
    "- `T& Stack::top()` - returns a reference to the most-recently-added item\n",
    "- `void Stack::pop()` - removes the most-recently-added item from the stack\n",
    "- `bool Stack::empty()` - returns whether the stack is empty\n",
    "- `void append(const Stack<T> &s)` - appends elements of the other stack `s` to the current stack object\n",
    "\n",
    "Use an `vector` to implement your `Stack`. Make the member functions `const` where appropriate.\n",
    "\n",
    "In the case where the `Stack` is empty, `pop` should do nothing, and `top` should throw `out_of_range` exception."
   ]
  },
  {
   "cell_type": "markdown",
   "metadata": {},
   "source": [
    "## Rubric\n",
    "\n",
    "- Define a`Stack` template class (you can use the example from the lecture notes) (5 pts)\n",
    "- Implement `Stack` methods (25 pts):\n",
    "    - push\n",
    "    - top\n",
    "    - pop\n",
    "    - empty\n",
    "    - append\n",
    "- Function `top` correctly throws an exception (5 pts)\n",
    "- Test driver executes correctly and prints expected output (5 pts)\n",
    "- Bonus points (5 pts)\n",
    "    - program compiles without errors and warnings\n",
    "    - use proper coding style (see below)   "
   ]
  },
  {
   "cell_type": "markdown",
   "metadata": {},
   "source": [
    "## Test Driver"
   ]
  },
  {
   "cell_type": "code",
   "execution_count": 4,
   "metadata": {},
   "outputs": [
    {
     "name": "stdout",
     "output_type": "stream",
     "text": [
      "4\n",
      "3\n",
      "2\n",
      "1\n",
      "Stack Error: Stack is empty\n"
     ]
    }
   ],
   "source": [
    "#include <vector>\n",
    "#include <iostream>\n",
    "#include <stdexcept> // stdexcept header contains runtime_error\n",
    "using namespace std; \n",
    "\n",
    "template <typename T>\n",
    "class Stack {\n",
    "// Write your code here\n",
    "};\n",
    "\n",
    "int main(){\n",
    "    Stack<int> a, b;\n",
    "    a.push(1); a.push(2);\n",
    "    b.push(3); b.push(4);\n",
    "    \n",
    "    a.append(b);\n",
    "    \n",
    "    while( !a.empty() ){\n",
    "        cout << a.top() << endl; a.pop();\n",
    "    }\n",
    "    \n",
    "    try {\n",
    "        a.top();\n",
    "    }\n",
    "    catch(const std::logic_error& le) {\n",
    "        cout << \"Stack is empty\" << endl;;\n",
    "    }\n",
    "}"
   ]
  }
 ],
 "metadata": {
  "kernelspec": {
   "display_name": "C++14",
   "language": "C++14",
   "name": "xcpp14"
  },
  "language_info": {
   "codemirror_mode": "text/x-c++src",
   "file_extension": ".cpp",
   "mimetype": "text/x-c++src",
   "name": "c++",
   "version": "-std=c++14"
  }
 },
 "nbformat": 4,
 "nbformat_minor": 2
}
