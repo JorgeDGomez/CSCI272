{
 "cells": [
  {
   "cell_type": "markdown",
   "metadata": {},
   "source": [
    "# Lab 3"
   ]
  },
  {
   "cell_type": "markdown",
   "metadata": {},
   "source": [
    "## Problem\n",
    "\n",
    "Calculate a **distance** between two points in various metric spaces. You can use a Euclidian distance which is defined by following formula:\n",
    "\n",
    "$$d(x,y) = \\sqrt{\\sum_{i=1}^N (x_i-y_i)^2}$$\n",
    "\n",
    "You can use this knowledge to calculate `distance` in various metric spaces represented by various data types: `Real`, `Complex`, and `Vector3D`."
   ]
  },
  {
   "cell_type": "markdown",
   "metadata": {},
   "source": [
    "## Rubric\n",
    "\n",
    "Write a program that accomplishes each of the following:\n",
    "\n",
    "- Write a **one** function template  `distance` that calculates a distance between points and returns it as a `double` value (10 pts).\n",
    "- Your code have to be compiled without errors (2 pts).\n",
    "- Test you code using the provided test driver (3 pts)."
   ]
  },
  {
   "cell_type": "markdown",
   "metadata": {},
   "source": [
    "## Test Driver"
   ]
  },
  {
   "cell_type": "code",
   "execution_count": null,
   "metadata": {},
   "outputs": [],
   "source": [
    "#include <iostream>\n",
    "#include <cmath>\n",
    "#include <vector>\n",
    "using namespace std;\n",
    "\n",
    "class Real {\n",
    "    double a;\n",
    "public:\n",
    "    size_t dim() {return  1;}\n",
    "    Real(double x) : a{x}{}\n",
    "    double operator[](int i) {\n",
    "        if (i==0) return a;\n",
    "        else return NAN;\n",
    "    }        \n",
    "};\n",
    "\n",
    "class Complex {\n",
    "    double a;\n",
    "    double b;\n",
    "public:\n",
    "    size_t dim() {return  2;}\n",
    "    Complex(double x, double y) : a{x}, b{y} {}  \n",
    "    double operator[](int i)\n",
    "    {\n",
    "        switch(i) {\n",
    "            case 0:\n",
    "                return a;\n",
    "            case 1:\n",
    "                return b;\n",
    "            default:\n",
    "                return NAN;\n",
    "        }\n",
    "    }\n",
    "};\n",
    "\n",
    "class Vector3D {\n",
    "    vector <double> vec;\n",
    "public:\n",
    "    size_t dim() {return  3;}\n",
    "    Vector3D(double a, double b, double c){\n",
    "        vec.push_back(a);\n",
    "        vec.push_back(b); \n",
    "        vec.push_back(c); \n",
    "    } \n",
    "    double operator[](int i) {\n",
    "        if (i>=0 && i<vec.size()) return vec[i];\n",
    "        else return NAN;\n",
    "    }\n",
    "};\n",
    "\n",
    "\n",
    "//===============================================\n",
    "// Write your `distance` function templates here\n",
    "//===============================================\n",
    "\n",
    "\n",
    "//===============================================\n",
    "int main()\n",
    "{\n",
    "    Real n1{1.0}, n2{2.0};\n",
    "    Complex c1{1.0, 2.0}, c2{2.0, 1.0};\n",
    "    Vector3D v1{1.0, 2.0, 3.0}, v2{3.0, 2.0, 1.0};\n",
    "    \n",
    "    cout << \"Distance between n1 and n2 is \" << distance(n1, n2) << endl;\n",
    "    cout << \"Distance between c1 and c2 is \" << distance(c1, c2) << endl;\n",
    "    cout << \"Distance between v1 and v2 is \" << distance(v1, v2) << endl;\n",
    "    \n",
    "    return 0;\n",
    "}"
   ]
  }
 ],
 "metadata": {
  "kernelspec": {
   "display_name": "C++14",
   "language": "C++14",
   "name": "xcpp14"
  },
  "language_info": {
   "codemirror_mode": "text/x-c++src",
   "file_extension": ".cpp",
   "mimetype": "text/x-c++src",
   "name": "c++",
   "version": "-std=c++14"
  }
 },
 "nbformat": 4,
 "nbformat_minor": 2
}
