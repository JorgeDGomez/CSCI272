{
 "cells": [
  {
   "cell_type": "code",
   "execution_count": 1,
   "metadata": {
    "slideshow": {
     "slide_type": "skip"
    }
   },
   "outputs": [],
   "source": [
    "#include <iostream>\n",
    "#include <iomanip>   // for setw and setfill stream manipulators\n",
    "#include <stdexcept> // for invalid_argument exception class\n",
    "#include <sstream>   // for ostringstream class\n",
    "#include <string>\n",
    "using namespace std;"
   ]
  },
  {
   "cell_type": "markdown",
   "metadata": {
    "slideshow": {
     "slide_type": "slide"
    }
   },
   "source": [
    "# Operator Overloading"
   ]
  },
  {
   "cell_type": "markdown",
   "metadata": {
    "slideshow": {
     "slide_type": "slide"
    }
   },
   "source": [
    "## Operators\n",
    "\n",
    "C++’s operators can work with class objects - a process called operator overloading.\n",
    "\n",
    "- One example of an overloaded operator built into C++ is **<<**, which is used both as the stream insertion operator and as the bitwise left-shift operator.\n",
    "\n",
    "- Similarly, **>>** also is overloaded; it’s used both as the stream extraction operator\n",
    "    - defined via operator overloading in the C++ Standard Library\n",
    "- and the bitwise right-shift operator\n",
    "    - defined as part of the C++ language."
   ]
  },
  {
   "cell_type": "code",
   "execution_count": 2,
   "metadata": {
    "slideshow": {
     "slide_type": "fragment"
    }
   },
   "outputs": [
    {
     "name": "stdout",
     "output_type": "stream",
     "text": [
      "defabc"
     ]
    }
   ],
   "source": [
    "{\n",
    "    string a{\"def\"};\n",
    "    string b{\"abc\"};\n",
    "    cout << a + b;\n",
    "}"
   ]
  },
  {
   "cell_type": "markdown",
   "metadata": {
    "slideshow": {
     "slide_type": "slide"
    }
   },
   "source": [
    "## *String* Class\n",
    "\n",
    "- Class **string** has overloaded operators and several other useful member functions, including **empty**, **substr** and **at**.\n",
    "\n",
    "- Class **string** has overloaded equality and relational operators perform lexicographical comparisons.\n",
    "\n",
    "- Class **string** provides member function **empty** to determine whether a string is empty\n",
    "    - Returns true if the string is empty; otherwise, it returns false.\n",
    "\n",
    "- Class **string** has overloaded **+=** operator performs string concatenation.\n",
    "    - A string literal can be appended to a string object by using operator +=\n",
    "\n",
    "- Class **string** has overloaded **[]** operator can create lvalues that enable new characters to replace existing characters.\n",
    "    - Overloaded [] operator does not perform any bounds checking.\n"
   ]
  },
  {
   "cell_type": "code",
   "execution_count": 2,
   "metadata": {
    "slideshow": {
     "slide_type": "subslide"
    }
   },
   "outputs": [
    {
     "name": "stdout",
     "output_type": "stream",
     "text": [
      "s1 is \"happy\"; s2 is \" birthday\"; s3 is \"\"\n",
      "\n",
      "The results of comparing s2 and s1:\n",
      "s2 == s1 yields false\n",
      "s2 != s1 yields true\n",
      "s2 > s1 yields false\n",
      "s2 < s1 yields true\n",
      "s2 >= s1 yields false\n",
      "s2 <= s1 yields true"
     ]
    }
   ],
   "source": [
    "string s1{\"happy\"};\n",
    "string s2{\" birthday\"};\n",
    "string s3; // creates an empty string\n",
    "// test overloaded equality and relational operators\n",
    "cout << \"s1 is \\\"\" << s1 << \"\\\"; s2 is \\\"\" << s2\n",
    "    << \"\\\"; s3 is \\\"\" << s3 << '\\\"'\n",
    "    << \"\\n\\nThe results of comparing s2 and s1:\" << boolalpha\n",
    "    << \"\\ns2 == s1 yields \" << ( s2 == s1 )\n",
    "    << \"\\ns2 != s1 yields \" << ( s2 != s1 )\n",
    "    << \"\\ns2 > s1 yields \" << ( s2 > s1 )\n",
    "    << \"\\ns2 < s1 yields \" << ( s2 < s1 )\n",
    "    << \"\\ns2 >= s1 yields \" << ( s2 >= s1 )\n",
    "    << \"\\ns2 <= s1 yields \" << ( s2 <= s1 );"
   ]
  },
  {
   "cell_type": "code",
   "execution_count": 3,
   "metadata": {
    "slideshow": {
     "slide_type": "subslide"
    }
   },
   "outputs": [
    {
     "name": "stdout",
     "output_type": "stream",
     "text": [
      "\n",
      "\n",
      "s1 += s2 yields s1 = happy birthday\n",
      "\n",
      "s1 += \" to you\" yields\n",
      "s1 = happy birthday to you"
     ]
    }
   ],
   "source": [
    "// test overloaded string concatenation assignment operator\n",
    "cout << \"\\n\\ns1 += s2 yields s1 = \";\n",
    "s1 += s2; // test overloaded concatenation\n",
    "cout << s1;\n",
    "\n",
    "// test string concatenation with a C string\n",
    "cout << \"\\n\\ns1 += \\\" to you\\\" yields\\n\";\n",
    "s1 += \" to you\";\n",
    "cout << \"s1 = \" << s1;"
   ]
  },
  {
   "cell_type": "code",
   "execution_count": 4,
   "metadata": {
    "slideshow": {
     "slide_type": "subslide"
    }
   },
   "outputs": [
    {
     "name": "stdout",
     "output_type": "stream",
     "text": [
      "\n",
      "s4 = happy birthday to you\n",
      "\n",
      "assigning s4 to s4\n",
      "s4 = happy birthday to you\n",
      "\n",
      "s1 after s1[0] = 'H' and s1[6] = 'B' is:\n",
      "Happy Birthday to you\n",
      "\n"
     ]
    }
   ],
   "source": [
    "// test copy constructor\n",
    "string s4{s1};\n",
    "cout << \"\\ns4 = \" << s4 << \"\\n\\n\";\n",
    "\n",
    "// test overloaded copy assignment (=) operator with self-assignment\n",
    "cout << \"assigning s4 to s4\\n\";\n",
    "s4 = s4;\n",
    "cout << \"s4 = \" << s4;\n",
    "\n",
    "// test using overloaded subscript operator to create lvalue\n",
    "s1[0] = 'H';\n",
    "s1[6] = 'B';\n",
    "cout << \"\\n\\ns1 after s1[0] = 'H' and s1[6] = 'B' is:\\n\" << s1 << \"\\n\\n\";"
   ]
  },
  {
   "cell_type": "markdown",
   "metadata": {
    "slideshow": {
     "slide_type": "slide"
    }
   },
   "source": [
    "## Fundamentals Of Operator Overloading\n",
    "\n",
    "- **Overloaded operators** provide a concise notation for manipulating string objects.\n",
    "- You can use operators with your **own user-defined types** as well.\n",
    "- Although C++ does **not allow new operators** to be created\n",
    "    - it does **allow most existing operators** to be overloaded so that, when they're used with objects, they have meaning appropriate to those objects.\n",
    "- Operators that cannot be overloaded: \n",
    "    - .\n",
    "    - .* (pointer to member)\n",
    "    - **::**\n",
    "    - **?:**\n",
    "- Operator **overloading is not automatic**\n",
    "    - you must write operator-overloading functions to perform the desired operations."
   ]
  },
  {
   "cell_type": "markdown",
   "metadata": {
    "slideshow": {
     "slide_type": "slide"
    }
   },
   "source": [
    "## Overloading Rules and Restrictions\n",
    "\n",
    "An operator's **precedence cannot be changed** by overloading.\n",
    "- However, parentheses can be used to force the order of evaluation of overloaded operators in an expression.\n",
    "\n",
    "An operator's **associativity cannot be changed** by overloading\n",
    "- if an operator normally associates from left to right, then so do all of its overloaded versions.\n",
    "\n",
    "An operator's **\"arity\" cannot be change** overloaded\n",
    "- arity - the number of operands an operator takes\n",
    "- unary operators remain unary operators\n",
    "- overloaded binary operators remain binary operators.\n",
    "\n",
    "Operators &, *, + and - all have both unary and binary versions\n",
    "- these unary and binary versions can be separately overloaded."
   ]
  },
  {
   "cell_type": "markdown",
   "metadata": {
    "slideshow": {
     "slide_type": "slide"
    }
   },
   "source": [
    "## Overloadi Rules and Restrictions (cont.)\n",
    "\n",
    "- Only **existing** operators can be overloaded.\n",
    "\n",
    "- You cannot overload operators to change how an operator works for fundamental type values\n",
    "    - For example, you cannot make the + operator subtract two ints.\n",
    "    - Operator overloading works only with objects of user-defined types or with a mixture of an object of a user-defined type and an object of a fundamental type."
   ]
  },
  {
   "cell_type": "markdown",
   "metadata": {
    "slideshow": {
     "slide_type": "slide"
    }
   },
   "source": [
    "## Overloadi Rules and Restrictions (cont.)\n",
    "\n",
    "- Related operators, like + and +=, **must be** overloaded separately.\n",
    "\n",
    "- When overloading (), [], -> or any of the assignment operators, the operator overloading function **must be** declared as a **class member**.\n",
    "    - For all other overloadable operators, the operator overloading functions can be member functions or non-member functions."
   ]
  },
  {
   "cell_type": "markdown",
   "metadata": {
    "slideshow": {
     "slide_type": "slide"
    }
   },
   "source": [
    "## Overloading Binary Operators\n",
    "\n",
    "A **binary operator** can be overloaded\n",
    "- as a **non-static member** function with one parameter, or\n",
    "- as a **non-member function** with two parameters\n",
    "    - one of those parameters must be either a class object or a reference to a class object\n",
    "\n",
    "As a non-member function, binary operator < must take two arguments\n",
    "- one of which must be an object (or a reference to an object) of the class."
   ]
  },
  {
   "cell_type": "markdown",
   "metadata": {
    "slideshow": {
     "slide_type": "slide"
    }
   },
   "source": [
    "[ClassWithBinOp.cpp](src/ClassWithBinOp.cpp)"
   ]
  },
  {
   "cell_type": "code",
   "execution_count": 3,
   "metadata": {
    "slideshow": {
     "slide_type": "slide"
    }
   },
   "outputs": [],
   "source": [
    "class ClassWithBinOp {\n",
    "    int x;\n",
    "public:\n",
    "    ClassWithBinOp(int v): x{v}{}\n",
    "    bool operator<(const ClassWithBinOp& v) const {\n",
    "        return this->x < v.x;\n",
    "    }\n",
    "};"
   ]
  },
  {
   "cell_type": "code",
   "execution_count": 4,
   "metadata": {
    "slideshow": {
     "slide_type": "fragment"
    }
   },
   "outputs": [
    {
     "name": "stdout",
     "output_type": "stream",
     "text": [
      "false"
     ]
    }
   ],
   "source": [
    "{\n",
    "    ClassWithBinOp a{2};\n",
    "    ClassWithBinOp b{1};\n",
    "    // a>b; //not overloaded\n",
    "    cout << boolalpha << (a<b);\n",
    "}"
   ]
  },
  {
   "cell_type": "code",
   "execution_count": null,
   "metadata": {
    "slideshow": {
     "slide_type": "fragment"
    }
   },
   "outputs": [],
   "source": [
    "bool operator>(const ClassWithBinOp& v, const ClassWithBinOp& w){\n",
    "    return v.getX() > w.getX();\n",
    "}  "
   ]
  },
  {
   "cell_type": "markdown",
   "metadata": {
    "slideshow": {
     "slide_type": "slide"
    }
   },
   "source": [
    "## Overloading the Binary Stream Operators\n",
    "\n",
    "- You can input and output fundamental-type data using:\n",
    "    - the stream extraction operator >> \n",
    "    - the stream insertion operator <<.\n",
    "    \n",
    "- The C++ class libraries overload these binary operators for **each fundamental type**\n",
    "    - including pointers and char * strings.\n",
    "\n",
    "- You can also overload these operators to perform input and output for your own types"
   ]
  },
  {
   "cell_type": "markdown",
   "metadata": {
    "slideshow": {
     "slide_type": "slide"
    }
   },
   "source": [
    "[ClassWithStreamOp.cpp](src/ClassWithStreamOp.cpp)"
   ]
  },
  {
   "cell_type": "code",
   "execution_count": 5,
   "metadata": {
    "slideshow": {
     "slide_type": "fragment"
    }
   },
   "outputs": [],
   "source": [
    "class ClassWithStreamOp {\n",
    "    friend std::ostream& operator<<(std::ostream&, const ClassWithStreamOp&);\n",
    "    friend std::istream& operator>>(std::istream&, ClassWithStreamOp&);\n",
    "public:\n",
    "    int x;\n",
    "    ClassWithStreamOp(int v): x{v}{}    \n",
    "};"
   ]
  },
  {
   "cell_type": "code",
   "execution_count": null,
   "metadata": {
    "slideshow": {
     "slide_type": "fragment"
    }
   },
   "outputs": [],
   "source": [
    "// overloaded stream insertion operator; cannot be a member function\n",
    "// if we would like to invoke it with cout << ClassWithStreamOp;\n",
    "ostream& operator<<(ostream& output, const ClassWithStreamOp& obj) {\n",
    "    output << \"Object field 'x': \" << obj.x;\n",
    "    return output;\n",
    "}"
   ]
  },
  {
   "cell_type": "code",
   "execution_count": null,
   "metadata": {
    "slideshow": {
     "slide_type": "fragment"
    }
   },
   "outputs": [],
   "source": [
    "{\n",
    "    ClassWithStreamOp obj{10};\n",
    "    cout << obj << endl;\n",
    "}"
   ]
  },
  {
   "cell_type": "markdown",
   "metadata": {
    "slideshow": {
     "slide_type": "slide"
    }
   },
   "source": [
    "## Tips\n",
    "\n",
    "- Overloaded operators **should mimic** the functionality of their built-in counterparts\n",
    "    - the + operator should perform addition, not subtraction.\n",
    "\n",
    "- Avoid excessive or inconsistent use of operator overloading, as this can make a program cryptic and difficult to read."
   ]
  },
  {
   "cell_type": "markdown",
   "metadata": {
    "slideshow": {
     "slide_type": "slide"
    }
   },
   "source": [
    "## Overloading Unary Operators\n",
    "\n",
    "- A unary operator for a class can be overloaded as\n",
    "    - a non-static member function with no arguments\n",
    "    - as a non-member function with one argument that **must be** an object (or a reference to an object) of the class.\n",
    "- A unary operator such as **!** may be overloaded as **a non-member function** with one parameter."
   ]
  },
  {
   "cell_type": "code",
   "execution_count": 13,
   "metadata": {
    "slideshow": {
     "slide_type": "slide"
    }
   },
   "outputs": [],
   "source": [
    "class ClassWithUnaryOp {\n",
    "    int x;\n",
    "public:\n",
    "    ClassWithUnaryOp(int v): x{v}{}\n",
    "    int operator!() const {\n",
    "        return x*x;\n",
    "    }\n",
    "};"
   ]
  },
  {
   "cell_type": "code",
   "execution_count": 15,
   "metadata": {
    "slideshow": {
     "slide_type": "fragment"
    }
   },
   "outputs": [
    {
     "name": "stdout",
     "output_type": "stream",
     "text": [
      "25"
     ]
    }
   ],
   "source": [
    "{\n",
    "    ClassWithUnaryOp a{5};\n",
    "    cout << !a;\n",
    "}"
   ]
  },
  {
   "cell_type": "markdown",
   "metadata": {
    "slideshow": {
     "slide_type": "slide"
    }
   },
   "source": [
    "## Overloading the ++ and --\n",
    "\n",
    "- The prefix and postfix versions of the increment and decrement operators can all be overloaded.\n",
    "- To overload the increment operator to allow both prefix and postfix increment usage, each overloaded operator function must have a distinct signature\n",
    "    - the compiler will be able to determine which version of ++ is intended.\n",
    "- The prefix versions are overloaded exactly as any other prefix unary operator would be"
   ]
  },
  {
   "cell_type": "markdown",
   "metadata": {
    "slideshow": {
     "slide_type": "slide"
    }
   },
   "source": [
    "## Overloading Prefix Operations\n",
    "\n",
    "- When the compiler sees the preincrementing expression `++obj`\n",
    "    - the overloaded operator is defined as a member function, and the compiler generates the member-function call\n",
    "        - `obj.operator++()`\n",
    "    - the prototype for this operator function would be\n",
    "        - `MyClass& operator++();`\n",
    "- If the prefix increment operator is implemented as a non-member function, then the compiler generates the function call\n",
    "    - `operator++( obj )`\n",
    "    - the prototype for this operator function would be declared in the `MyClass` class as \n",
    "        - `MyClass& operator++( MyClass& );`"
   ]
  },
  {
   "cell_type": "code",
   "execution_count": 10,
   "metadata": {
    "slideshow": {
     "slide_type": "slide"
    }
   },
   "outputs": [],
   "source": [
    "class ClassWithIncOp {\n",
    "    int x;\n",
    "public:\n",
    "    ClassWithIncOp(int v): x{v}{}\n",
    "    int getX() {return x;}\n",
    "    ClassWithIncOp& operator++(){\n",
    "        // increment object\n",
    "        x = x + 1;\n",
    "        // reference return to create an lvalue\n",
    "        return *this;\n",
    "    }\n",
    "};"
   ]
  },
  {
   "cell_type": "code",
   "execution_count": 12,
   "metadata": {
    "slideshow": {
     "slide_type": "fragment"
    }
   },
   "outputs": [
    {
     "name": "stdout",
     "output_type": "stream",
     "text": [
      "Before increment: 7\n",
      "8\n",
      "After increment: 8\n"
     ]
    }
   ],
   "source": [
    "{\n",
    "    ClassWithIncOp a{7};\n",
    "    cout << \"Before increment: \"<< a.getX() << endl;\n",
    "    cout << (++a).getX() << endl;\n",
    "    cout << \"After increment: \"<< a.getX() << endl;\n",
    "}"
   ]
  },
  {
   "cell_type": "markdown",
   "metadata": {
    "slideshow": {
     "slide_type": "slide"
    }
   },
   "source": [
    "## Overloading Postfix Operators\n",
    "\n",
    "Overloading the postfix increment operator presents a challenge, because the compiler **must be able to distinguish** between the signatures of the overloaded prefix and postfix increment operator functions.\n",
    "\n",
    "- The convention that has been adopted in C++ is that, when the compiler sees the postincrementiang expression `obj++`, it generates the member-function call\n",
    "    - `obj.operator++(0)`\n",
    "    - the prototype for this function is `MyClass operator++(int)`\n",
    "    \n",
    "- The argument **0** is strictly a **\"dummy value\"** that enables the compiler to distinguish between the prefix and postfix increment operator functions.\n",
    "    - The same syntax is used to differentiate between the prefix and postfix decrement operator functions."
   ]
  },
  {
   "cell_type": "code",
   "execution_count": 2,
   "metadata": {
    "slideshow": {
     "slide_type": "slide"
    }
   },
   "outputs": [],
   "source": [
    "class ClassWithIncOp2 {\n",
    "    int x;\n",
    "public:\n",
    "    ClassWithIncOp2(int v): x{v}{}\n",
    "    int getX() {return x;}\n",
    "    ClassWithIncOp2 operator++(int){\n",
    "        // hold current state of object\n",
    "        ClassWithIncOp2 tmp{*this};\n",
    "        // increment object\n",
    "        x = x + 1;\n",
    "        // return unincremented, saved, temporary object\n",
    "        return tmp; // value return; not a reference return\n",
    "    }\n",
    "};"
   ]
  },
  {
   "cell_type": "code",
   "execution_count": 6,
   "metadata": {
    "slideshow": {
     "slide_type": "fragment"
    }
   },
   "outputs": [
    {
     "name": "stdout",
     "output_type": "stream",
     "text": [
      "Before increment: 7\n",
      "7\n",
      "After increment: 8\n"
     ]
    }
   ],
   "source": [
    "{\n",
    "    ClassWithIncOp2 a{7};\n",
    "    cout << \"Before increment: \"<< a.getX() << endl;\n",
    "    cout << (a++).getX() << endl;\n",
    "    cout << \"After increment: \"<< a.getX() << endl;\n",
    "}"
   ]
  },
  {
   "cell_type": "markdown",
   "metadata": {
    "slideshow": {
     "slide_type": "slide"
    }
   },
   "source": [
    "## Dynamic Memory Management\n",
    "\n",
    "- You can control memory **allocation** and **deallocation** in a program for objects and for arrays of any built-in or user-defined type.\n",
    "    - Known as **dynamic memory management**; performed with **new** and **delete**.\n",
    "- Use the **new** operator to dynamically allocate the exact amount of memory required to hold an object at execution time.\n",
    "- The object is created in the free store - **heap** - a region of memory assigned to each program for storing dynamically allocated objects.\n",
    "- Once memory is allocated, you can access it via the pointer that operator **new** returns.\n",
    "- Return memory by using the **delete** operator to **deallocate** it."
   ]
  },
  {
   "cell_type": "markdown",
   "metadata": {
    "slideshow": {
     "slide_type": "slide"
    }
   },
   "source": [
    "## Obtaining Dynamic Memory\n",
    "\n",
    "- The **new** operator allocates storage of the proper size for an object\n",
    "    - calls the default constructor to initialize the object, and\n",
    "    - returns a pointer to the type specified to the right of the new operator.\n",
    "- If **new** is unable to find sufficient space in memory for the object, it indicates that an error occurred\n",
    "    - by \"throwing an exception\"."
   ]
  },
  {
   "cell_type": "code",
   "execution_count": 7,
   "metadata": {
    "slideshow": {
     "slide_type": "fragment"
    }
   },
   "outputs": [
    {
     "name": "stdout",
     "output_type": "stream",
     "text": [
      "7"
     ]
    }
   ],
   "source": [
    "{\n",
    "    ClassWithIncOp2* ptr{new ClassWithIncOp2(7)};\n",
    "    cout << ptr->getX();\n",
    "}"
   ]
  },
  {
   "cell_type": "markdown",
   "metadata": {
    "slideshow": {
     "slide_type": "slide"
    }
   },
   "source": [
    "## Releasing Dynamic Memory\n",
    "\n",
    "- To destroy a dynamically allocated object, use the **delete** operator as follows:\n",
    "        delete ptr;\n",
    "- This statement first calls the **destructor** for the object to which `ptr` points,\n",
    "    - then deallocates the memory associated with the object, returning the memory to the free store."
   ]
  },
  {
   "cell_type": "code",
   "execution_count": null,
   "metadata": {
    "slideshow": {
     "slide_type": "fragment"
    }
   },
   "outputs": [
    {
     "name": "stdout",
     "output_type": "stream",
     "text": [
      "7\n"
     ]
    }
   ],
   "source": [
    "{\n",
    "    ClassWithIncOp2* ptr{new ClassWithIncOp2(7)};\n",
    "    cout << ptr->getX() << endl;\n",
    "    delete ptr;\n",
    "    // delete ptr; //DO NOT DO THAT TWO TIMES\n",
    "    ptr = nullptr;\n",
    "    cout << ptr->getX();\n",
    "}"
   ]
  },
  {
   "cell_type": "markdown",
   "metadata": {
    "slideshow": {
     "slide_type": "slide"
    }
   },
   "source": [
    "## Tips\n",
    "\n",
    "- **Memory leak:** Not releasing dynamically allocated memory when it's no longer needed can cause the system to run out of memory prematurely.\n",
    "- Do not delete memory that was not allocated by **new**. Doing so results in undefined behavior.\n",
    "\n",
    "- After you delete a block of dynamically allocated memory, be sure not to delete the same block again.\n",
    "    - One way to guard against this is to immediately set the pointer to `nullptr`.\n",
    "    - Deleting a `nullptr` has no effect."
   ]
  },
  {
   "cell_type": "markdown",
   "metadata": {
    "slideshow": {
     "slide_type": "slide"
    }
   },
   "source": [
    "## Initializing Dynamic Memory\n",
    "\n",
    "- You can provide an **initializer** for a newly created fundamental type variable, as in\n",
    "        double *ptr{new double{3.14159}};\n",
    "- The same syntax can be used to specify a comma-separated list of arguments to the constructor of an object.\n",
    "- You can also use the **new** operator to allocate built-in arrays dynamically.\n",
    "        int *gradesArray{new int[10]{}};        \n",
    "- A dynamically allocated array's **size** can be specified using any non-negative integral expression that can be evaluated at execution time."
   ]
  },
  {
   "cell_type": "markdown",
   "metadata": {
    "slideshow": {
     "slide_type": "slide"
    }
   },
   "source": [
    "## Releasing Dynamically Allocated Built-In Arrays\n",
    "\n",
    "- To deallocate a dynamically allocated array, use the statement\n",
    "        delete[] ptr;\n",
    "- If the pointer points to a built-in array of objects, the statement first calls the destructor for every object in the array, then deallocates the memory.\n",
    "- Using **delete** or **[]** on a **nullptr** has no effect.\n",
    "- Using **delete** instead of **delete[]** for built-in arrays of objects can lead to runtime logic errors."
   ]
  }
 ],
 "metadata": {
  "celltoolbar": "Slideshow",
  "kernelspec": {
   "display_name": "C++14",
   "language": "C++14",
   "name": "xcpp14"
  },
  "language_info": {
   "codemirror_mode": "text/x-c++src",
   "file_extension": ".cpp",
   "mimetype": "text/x-c++src",
   "name": "c++",
   "version": "-std=c++14"
  }
 },
 "nbformat": 4,
 "nbformat_minor": 2
}
