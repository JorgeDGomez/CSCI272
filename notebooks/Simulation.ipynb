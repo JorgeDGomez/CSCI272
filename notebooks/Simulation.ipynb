{
 "cells": [
  {
   "cell_type": "markdown",
   "metadata": {},
   "source": [
    "# Simulation: Part 1"
   ]
  },
  {
   "cell_type": "code",
   "execution_count": 1,
   "metadata": {
    "slideshow": {
     "slide_type": "skip"
    }
   },
   "outputs": [],
   "source": [
    "// Load required libraries for notebook code\n",
    "#include <string> // enable program to use C++ string data type\n",
    "#include <iostream>\n",
    "using namespace std;"
   ]
  },
  {
   "cell_type": "markdown",
   "metadata": {},
   "source": [
    "## Computation modeling in biology\n",
    "\n",
    "Write a program that simulates the growth of **parasite population in an animal** over time. Each parasite organism **reproduces itself** at **some time interval**. Animals may **undergo drug treatment** to inhibit the reproduction process, and clear the parasites from their body. However, some of the parasite are **resistant to drugs** and **may survive**."
   ]
  },
  {
   "cell_type": "markdown",
   "metadata": {
    "slideshow": {
     "slide_type": "slide"
    }
   },
   "source": [
    "## Rubric\n",
    "\n",
    "- Identify objects that simulation uses from the above description\n",
    "- Identify objects' properties and responsibilities\n",
    "- Define C++ class for every object listing all possible members (data and functional) (10 pts)\n",
    "    - Make sure that the class definition is in the separate header file (*.h), and\n",
    "    - Implementation of functional members (methods) put in the corresponding implementation file (*.cpp)\n",
    "    - Use *#include* preprocessor directive to reference the class declarations in the corresponding implementation files\n",
    "    - Make sure that every class has a **constructor** that initializes parameters using a **member initialized list**\n",
    "    - All data members must have **private** access\n",
    "    - Provide for each private data member a public method that allows access its value\n",
    "        - Naming convention: You can name your data member as you wish, however any methods that provide access to the field have to be named as follows: *get<FieldName\\>*\n",
    "        - E.g. Private field *name* should have a public access method called *getName()*.\n",
    "- Create a *simulation.cpp* that will have *main()* function (5 pts)\n",
    "    - Reference all classes in this files using *#include* preprocessor directive\n",
    "    - Create one instance of each class (object) in the *main()* function\n",
    "    - In the *main()* function of the *simulation.cpp* create implicitly and initialize objects of each class\n",
    "    - Use class public access methods to print initial values of objects to the console\n",
    "\n",
    "- Bonus points (3 pts)\n",
    "    - program compiles without errors and warnings\n",
    "    - use proper coding style (see below)"
   ]
  },
  {
   "cell_type": "markdown",
   "metadata": {
    "slideshow": {
     "slide_type": "slide"
    }
   },
   "source": [
    "## Problem Analysis \n",
    "\n",
    "### Determine objects, properties and responsibilities\n",
    "\n",
    "Parasite\n",
    "- Characteristics: reproduction rate (%), resistance (%)\n",
    "- Responsibilities: reproduce, survive\n",
    "\n",
    "Animal\n",
    "- Characteristics: parasite population, immunity to parasites (%)\n",
    "- Responsibilities: undergo treatment \n"
   ]
  },
  {
   "cell_type": "markdown",
   "metadata": {
    "slideshow": {
     "slide_type": "slide"
    }
   },
   "source": [
    "## Parasite Class: Declaration\n",
    "\n",
    "- Write a **Parasite** class declaration in the a separate header file `Parasite.h`, including a guard to prevent class subsequent redefinition.\n",
    "- Include into the class definition all parasite properties:\n",
    "    - a reproduction rate as `float` field `reproductionRate` \n",
    "    - a drug resistance as `float` field `resistance`\n",
    "- Provide to encapsulated fields access functional members: `getReproductionRate` and `getResistance`\n",
    "- Add functional members corresponding to parasite responsibilities:\n",
    "    - For *reproducibility*, add method `reproduce` that returns an object of the parasite if it successfully reproduced\n",
    "    - For *survival*, add method `survive` that returns `true` value if the parasite survived to the next iteration of the simulation, `false` otherwise.\n",
    "    - Both above responsibilities depend on an immunity of the animal to parasites, thus the animal `immunity` becomes a parameter to both methods.\n",
    "    - Add a default constructor definition for initialization of the `Parasite` class object"
   ]
  },
  {
   "cell_type": "code",
   "execution_count": 2,
   "metadata": {
    "slideshow": {
     "slide_type": "fragment"
    }
   },
   "outputs": [],
   "source": [
    "#ifndef PARASITE_H\n",
    "#define PARASITE_H\n",
    "\n",
    "class Parasite {\n",
    "    \n",
    "    float reproductionRate; // rate of reproduction, in %\n",
    "    float resistance;       // resistance against drugs, in %\n",
    "    \n",
    "public:\n",
    "    Parasite(float newReproductionRate, float newResistance);\n",
    "    \n",
    "    float getReproductionRate();\n",
    "    float getResistance();    \n",
    "    \n",
    "    Parasite* reproduce(float immunity);\n",
    "    bool survive(float immunity);        \n",
    "};\n",
    "\n",
    "#endif"
   ]
  },
  {
   "cell_type": "markdown",
   "metadata": {
    "slideshow": {
     "slide_type": "slide"
    }
   },
   "source": [
    "## Animal Class: Declaration\n",
    "\n",
    "- Write a **Animal** class declaration in the a separate header file `Animal.h`, including a guard to prevent class subsequent redefinition.\n",
    "-  Similarly to **Parasite** class, include into the class definition all animal properties:\n",
    "    - an immunity rate as `float` field `immunity` \n",
    "    - a number of parasites in the animal as `unsigned int` field `numParasiteCells`\n",
    "- Provide to encapsulated fields access functional members: `getImmunity` and `getParasiteNumber`\n",
    "- Add functional members corresponding to parasite responsibilities:\n",
    "    - For *taking drug*, add method `takeDrug` that returns nothing, this method will adjust the immunity of the animal\n",
    "    - Add a default constructor definition for initialization of the `Animal` class object"
   ]
  },
  {
   "cell_type": "code",
   "execution_count": 3,
   "metadata": {
    "slideshow": {
     "slide_type": "slide"
    }
   },
   "outputs": [],
   "source": [
    "#ifndef ANIMAL_H\n",
    "#define ANIMAL_H\n",
    "\n",
    "class Animal {\n",
    "    \n",
    "    float immunity;       // degree of immunity, in %\n",
    "    unsigned int numParasiteCells; // number of parasites   \n",
    "\n",
    "public:\n",
    "    Animal(float initImmunity, int initNumViruses);\n",
    "\n",
    "    float getImmunity();\n",
    "    int getParasiteNumber();\n",
    "    \n",
    "    void takeDrug();    \n",
    "};\n",
    "\n",
    "#endif"
   ]
  },
  {
   "cell_type": "markdown",
   "metadata": {
    "slideshow": {
     "slide_type": "slide"
    }
   },
   "source": [
    "## Parasite Class: Implementation\n",
    "\n",
    "Now, create an implementation file `Parasite.cpp` which contains **Parasite** functional members (methods) implemetation:\n",
    "- Do not forget to include **Parasite** class declaration file: `#include \"Parasite.h\"`\n",
    "- First, define default constructor which will set encapsulated fields to specified values"
   ]
  },
  {
   "cell_type": "code",
   "execution_count": 4,
   "metadata": {
    "slideshow": {
     "slide_type": "fragment"
    }
   },
   "outputs": [],
   "source": [
    "Parasite::Parasite(float newReproductionRate, float newResistance) {\n",
    "    reproductionRate = newReproductionRate;\n",
    "    resistance = newResistance;\n",
    "    cout << \"Parasite is born with \" << reproductionRate*100 << \"% reproduction rate, and \"\n",
    "         << resistance*100 << \"% resistance\" << endl;\n",
    "}"
   ]
  },
  {
   "cell_type": "markdown",
   "metadata": {},
   "source": [
    "- Define access methods for encapsulated fileds"
   ]
  },
  {
   "cell_type": "code",
   "execution_count": 5,
   "metadata": {},
   "outputs": [],
   "source": [
    "float Parasite::getReproductionRate(){\n",
    "    return reproductionRate;\n",
    "}"
   ]
  },
  {
   "cell_type": "code",
   "execution_count": 6,
   "metadata": {},
   "outputs": [],
   "source": [
    "float Parasite::getResistance(){\n",
    "    return resistance;\n",
    "}"
   ]
  },
  {
   "cell_type": "markdown",
   "metadata": {
    "slideshow": {
     "slide_type": "slide"
    }
   },
   "source": [
    "## Animal Class: Implementation\n",
    "\n",
    "Similarly to **Parasite** class implementation file, create an implementation file `Animal.cpp` which contains **Animal** functional members (methods) implemetation:\n",
    "- Do not forget to include **Animal** class declaration file: `#include \"Animal.h\"`\n",
    "- First, define default constructor which will set encapsulated fields to specified values"
   ]
  },
  {
   "cell_type": "code",
   "execution_count": 7,
   "metadata": {
    "slideshow": {
     "slide_type": "fragment"
    }
   },
   "outputs": [],
   "source": [
    "Animal::Animal(float initImmunity, int initNumParasiteCells) :\n",
    "                 numParasiteCells(initNumParasiteCells), immunity(initImmunity)\n",
    "{\n",
    "    cout << \"Animal has \" << numParasiteCells << \" parasites, and \"\n",
    "         << immunity*100 << \"% immunity\" << endl;\n",
    "}"
   ]
  },
  {
   "cell_type": "markdown",
   "metadata": {},
   "source": [
    "- Define access methods for encapsulated fileds"
   ]
  },
  {
   "cell_type": "code",
   "execution_count": 8,
   "metadata": {},
   "outputs": [],
   "source": [
    "float Animal::getImmunity(){\n",
    "    return immunity;\n",
    "}"
   ]
  },
  {
   "cell_type": "code",
   "execution_count": 10,
   "metadata": {},
   "outputs": [],
   "source": [
    "int Animal::getParasiteNumber(){\n",
    "    return numParasiteCells;\n",
    "}"
   ]
  },
  {
   "cell_type": "markdown",
   "metadata": {},
   "source": [
    "## Simulation Program\n",
    "\n",
    "Create a `simulation.cpp` that contains `main()` function which instantiate (implicitly) objects of **Parasite** and **Animal** class with some values and with the help of access methods output state of encapsulated objects' fields to the console."
   ]
  },
  {
   "cell_type": "code",
   "execution_count": 16,
   "metadata": {},
   "outputs": [
    {
     "name": "stdout",
     "output_type": "stream",
     "text": [
      "Parasite is born with 10% reproduction rate, and 20% resistance\n",
      "Animal has 10 parasites, and 30% immunity\n",
      "This parasite has reporoduction rate: 10%, and resistance rate: 20\n",
      "This animal has immunity rate: 30%, and 10 parasites\n"
     ]
    }
   ],
   "source": [
    "{\n",
    "    // Create a parasite with 10% reporoduction and 20% resistance rate\n",
    "    Parasite p{0.1, 0.2};\n",
    "    // Create an animal with 30% immunity rate and 10 parasites\n",
    "    Animal a{0.3, 10};\n",
    "    \n",
    "    cout << \"This parasite has reporoduction rate: \" << p.getReproductionRate()*100\n",
    "         << \"%, and resistance rate: \" << p.getResistance()*100 << endl;\n",
    "    \n",
    "    cout << \"This animal has immunity rate: \" << a.getImmunity()*100\n",
    "         << \"%, and \" << a.getParasiteNumber() << \" parasites\"<< endl;\n",
    "}"
   ]
  },
  {
   "cell_type": "markdown",
   "metadata": {},
   "source": [
    "# Program Listings"
   ]
  },
  {
   "cell_type": "markdown",
   "metadata": {},
   "source": [
    "## `Parasite.h`"
   ]
  },
  {
   "cell_type": "code",
   "execution_count": 17,
   "metadata": {},
   "outputs": [],
   "source": [
    "#ifndef PARASITE_H\n",
    "#define PARASITE_H\n",
    "\n",
    "class Parasite {\n",
    "    \n",
    "    float reproductionRate; // rate of reproduction, in %\n",
    "    float resistance;       // resistance against drugs, in %\n",
    "    \n",
    "public:\n",
    "    Parasite(float newReproductionRate, float newResistance);\n",
    "    \n",
    "    float getReproductionRate();\n",
    "    float getResistance();    \n",
    "    \n",
    "    Parasite* reproduce(float immunity);\n",
    "    bool survive(float immunity);        \n",
    "};\n",
    "\n",
    "#endif"
   ]
  },
  {
   "cell_type": "markdown",
   "metadata": {},
   "source": [
    "## `Parasite.cpp`"
   ]
  },
  {
   "cell_type": "code",
   "execution_count": null,
   "metadata": {},
   "outputs": [],
   "source": [
    "#include \"Parasite.h\"\n",
    "#include <iostream>\n",
    "using namespace std;\n",
    "\n",
    "Parasite::Parasite(float newReproductionRate, float newResistance) {\n",
    "    reproductionRate = newReproductionRate;\n",
    "    resistance = newResistance;\n",
    "    cout << \"Parasite is born with \" << reproductionRate*100 << \"% reproduction rate, and \"\n",
    "         << resistance*100 << \"% resistance\" << endl;\n",
    "}\n",
    "\n",
    "float Parasite::getReproductionRate(){\n",
    "    return reproductionRate;\n",
    "}\n",
    "\n",
    "float Parasite::getResistance(){\n",
    "    return resistance;\n",
    "}"
   ]
  },
  {
   "cell_type": "markdown",
   "metadata": {},
   "source": [
    "## `Animal.h`"
   ]
  },
  {
   "cell_type": "code",
   "execution_count": null,
   "metadata": {},
   "outputs": [],
   "source": [
    "#ifndef ANIMAL_H\n",
    "#define ANIMAL_H\n",
    "\n",
    "class Animal {\n",
    "    \n",
    "    float immunity;       // degree of immunity, in %\n",
    "    unsigned int numParasiteCells; // number of parasites   \n",
    "\n",
    "public:\n",
    "    Animal(float initImmunity, int initNumViruses);\n",
    "\n",
    "    float getImmunity();\n",
    "    int getParasiteNumber();\n",
    "    \n",
    "    void takeDrug();    \n",
    "};\n",
    "\n",
    "#endif"
   ]
  },
  {
   "cell_type": "markdown",
   "metadata": {},
   "source": [
    "## `Animal.cpp`"
   ]
  },
  {
   "cell_type": "code",
   "execution_count": null,
   "metadata": {},
   "outputs": [],
   "source": [
    "#include \"Animal.h\"\n",
    "#include <iostream>\n",
    "using namespace std;\n",
    "\n",
    "Animal::Animal(float initImmunity, int initNumParasiteCells) :\n",
    "                 numParasiteCells(initNumParasiteCells), immunity(initImmunity)\n",
    "{\n",
    "    cout << \"Animal has \" << numParasiteCells << \" parasites, and \"\n",
    "         << immunity*100 << \"% immunity\" << endl;\n",
    "}\n",
    "\n",
    "float Animal::getImmunity(){\n",
    "    return immunity;\n",
    "}\n",
    "\n",
    "int Animal::getParasiteNumber(){\n",
    "    return numParasiteCells;\n",
    "}"
   ]
  },
  {
   "cell_type": "markdown",
   "metadata": {},
   "source": [
    "## `Simulation.cpp`"
   ]
  },
  {
   "cell_type": "code",
   "execution_count": null,
   "metadata": {},
   "outputs": [],
   "source": [
    "#include \"Parasite.h\"\n",
    "#include \"Animal.h\"\n",
    "#include <iostream>\n",
    "using namespace std;\n",
    "\n",
    "int main(){\n",
    "    // Create a parasite with 10% reporoduction and 20% resistance rate\n",
    "    Parasite p{0.1, 0.2};\n",
    "    // Create an animal with 30% immunity rate and 10 parasites\n",
    "    Animal a{0.3, 10};\n",
    "    \n",
    "    cout << \"This parasite has reporoduction rate: \" << p.getReproductionRate()*100\n",
    "         << \"%, and resistance rate: \" << p.getResistance()*100 << endl;\n",
    "    \n",
    "    cout << \"This animal has immunity rate: \" << a.getImmunity()*100\n",
    "         << \"%, and \" << a.getParasiteNumber() << \" parasites\"<< endl;\n",
    "\n",
    "    return 0;\n",
    "}"
   ]
  },
  {
   "cell_type": "markdown",
   "metadata": {},
   "source": [
    "# Compilation\n",
    "\n",
    "Using GCC C++ compiler, compile and run the simulation program with following commands:\n",
    "- `g++ -std=c++14 -o simulation Animal.cpp Parasite.cpp Simulation.cpp`\n",
    "- `./simulation`\n"
   ]
  }
 ],
 "metadata": {
  "kernelspec": {
   "display_name": "C++14",
   "language": "C++14",
   "name": "xcpp14"
  },
  "language_info": {
   "codemirror_mode": "text/x-c++src",
   "file_extension": ".cpp",
   "mimetype": "text/x-c++src",
   "name": "c++",
   "version": "-std=c++14"
  }
 },
 "nbformat": 4,
 "nbformat_minor": 2
}
