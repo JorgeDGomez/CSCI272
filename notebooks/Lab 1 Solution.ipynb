{
 "cells": [
  {
   "cell_type": "markdown",
   "metadata": {},
   "source": [
    "# Lab 1: Solution"
   ]
  },
  {
   "cell_type": "markdown",
   "metadata": {},
   "source": [
    "## Problem\n",
    "\n",
    "Create an advanced scientific calculator that performs various calculations on numbers and polynomials.\n",
    "In *abstrac algebra*, there exists an abstract description of above numerical or algebraic system called **group**.\n",
    "- **Group** is a **set** with a **binary** operation.\n",
    "\n",
    "For example:\n",
    "\n",
    "- Real numbers with division\n",
    "- Complex numbers with multiplication\n",
    "- Polynomials with addition\n",
    "\n",
    "You can use this knowledge to create an hierarchy of classes `Real`, `Complex` and `Binomial`,\n",
    "and then extend it with appropriate numerical or algebraic system binary operations."
   ]
  },
  {
   "cell_type": "markdown",
   "metadata": {},
   "source": [
    "## Rubric\n",
    "\n",
    "Write a program that accomplishes each of the following:\n",
    "\n",
    "- Create a user-defined class `Real` that has a *protected* data member that would contain a value of the real number (10 pts).\n",
    "    - Create a constructor that accepts one parameter which is used to initialize a class object.\n",
    "    - Overload the division operator ( `/` ) to divide two `Real`s.\n",
    "- Derive a class `Complex` from `Real` and add additional data member for the imaginary part of the number (10 pts).\n",
    "    - Create a constructor that accepts two parameters which are used to initialize a class object.\n",
    "    - Overload the multiplication operator ( `*` ) to multiply two `Complex` numbers.\n",
    "- Derive a class `Polynomial` from `Complex` and add additional data member for the the exponents of algebraic coefficients (10 pts).\n",
    "    - Create a constructor that accepts three parameters which are used to initialize a class object.\n",
    "    - Overload the addition operator ( `+` ) to add two `Polynomial`s.\n",
    "- For every class the stream insertion `<<` operator functions as **friend** functions (10 pts). \n",
    "    - The stream insertion operator should not be able to display if an input error occurred.\n",
    "    - For negative imaginary values, a minus sign should be printed rather than a plus sign.    \n",
    "- **Bonus:** For every class the stream extraction `>>` operator function should determine whether the data entered is valid, and, if not, it should set fail to indicate improper input (10 pts).\n",
    "    - The values can be negative or positive, and it’s possible that one of the two values is not provided, in which case the appropriate data member should be set to 0."
   ]
  },
  {
   "cell_type": "markdown",
   "metadata": {},
   "source": [
    "## Solution: class `Real`"
   ]
  },
  {
   "cell_type": "code",
   "execution_count": 2,
   "metadata": {},
   "outputs": [],
   "source": [
    "class Real {\n",
    "    friend ostream& operator<<(ostream&, const Real&);\n",
    "protected:    \n",
    "    // data memeber\n",
    "    double a;\n",
    "public:    \n",
    "    // constructor\n",
    "    Real(double x): a{x} {}\n",
    "    // overloaded operation\n",
    "    Real operator/(Real& x) const {\n",
    "        double r = a / x.a;\n",
    "        return Real(r);\n",
    "    }\n",
    "};\n",
    "\n",
    "ostream& operator<<(ostream& output, const Real& obj) {\n",
    "    output << obj.a;\n",
    "    return output;\n",
    "}"
   ]
  },
  {
   "cell_type": "markdown",
   "metadata": {},
   "source": [
    "## Solution: class `Complex`"
   ]
  },
  {
   "cell_type": "code",
   "execution_count": null,
   "metadata": {},
   "outputs": [],
   "source": [
    "class Complex : public Real {\n",
    "    friend ostream& operator<<(ostream&, const Complex&);\n",
    "protected:\n",
    "    double b;\n",
    "public:\n",
    "    Complex(double x, double y): Real(x), b{y} {}\n",
    "    Complex operator*(Complex& num) const {\n",
    "        double re = a * num.a - b*num.b;\n",
    "        double im = b * num.a + a*num.b;\n",
    "        return Complex(re, im);\n",
    "    }\n",
    "};\n",
    "\n",
    "ostream& operator<<(ostream& output, const Complex& obj) {\n",
    "    output << obj.a << (obj.b > 0 ? \"+\" : \"\") << obj.b << \"i\";\n",
    "    return output;\n",
    "}"
   ]
  },
  {
   "cell_type": "markdown",
   "metadata": {},
   "source": [
    "## Solution: class `Polynomial`"
   ]
  },
  {
   "cell_type": "code",
   "execution_count": null,
   "metadata": {},
   "outputs": [],
   "source": [
    "class Polynomial : public Complex {\n",
    "    friend ostream& operator<<(ostream&, const Polynomial&);\n",
    "protected:\n",
    "    double c;\n",
    "public:\n",
    "    // derived class constructor that uses base class constructor\n",
    "    Polynomial(double x, double y, double z): Complex(x, y), c{z} {}\n",
    "    // overloaded operation\n",
    "    Polynomial operator+(Polynomial& num) const {\n",
    "        double c1 = a + num.a;\n",
    "        double c2 = b + num.b;\n",
    "        double c3 = c + num.c;\n",
    "        return Polynomial(c1, c2, c3);\n",
    "    }\n",
    "};\n",
    "\n",
    "ostream& operator<<(ostream& output, const Polynomial& obj) {\n",
    "    if (obj.a != 0)\n",
    "        output << obj.a << \"x^2\";\n",
    "    if (obj.b != 0)\n",
    "        output << (obj.b > 0 ? \"+\" : \"\") << obj.b << \"x\";\n",
    "    if (obj.c != 0)\n",
    "        output << (obj.c > 0 ? \"+\" : \"\") << obj.c;\n",
    "    return output;\n",
    "}"
   ]
  },
  {
   "cell_type": "markdown",
   "metadata": {},
   "source": [
    "## Test Driver"
   ]
  },
  {
   "cell_type": "code",
   "execution_count": null,
   "metadata": {},
   "outputs": [],
   "source": [
    "#include <iostream>\n",
    "using namespace std;\n",
    "\n",
    "int main() \n",
    "{\n",
    "    Real a{30.0};\n",
    "    Real b{20.0};  \n",
    "    // next line shows: 30/20 = 1.5\n",
    "    cout << a << \" / \" << b << \" = \" << (a/b) << endl;\n",
    "                \n",
    "    Complex d{3.0, 1.0};  // 3 + i\n",
    "    Complex e{2.0, -2.0}; // 2 - 2i\n",
    "    // next line shows: (3+1i)*(2-2i) = (8-4i)\n",
    "    cout << \"(\" << d << \") * (\" << e << \") = \" << (d*e) << endl;\n",
    "        \n",
    "    Polynomial h{2,1,1};    // 2x^2+1x+1\n",
    "    Polynomial i{1,-1,0};   // 1x^2-1x\n",
    "    // next line shows: (2x^2+1x+1) + (1x^2-1x) = (3x^2+1)\n",
    "    cout << \"(\" << h << \") + (\" << i << \") = \" << (h+i) << endl;     \n",
    "}"
   ]
  }
 ],
 "metadata": {
  "kernelspec": {
   "display_name": "C++14",
   "language": "C++14",
   "name": "xcpp14"
  },
  "language_info": {
   "codemirror_mode": "text/x-c++src",
   "file_extension": ".cpp",
   "mimetype": "text/x-c++src",
   "name": "c++",
   "version": "-std=c++14"
  }
 },
 "nbformat": 4,
 "nbformat_minor": 2
}
