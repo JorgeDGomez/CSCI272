{
 "cells": [
  {
   "cell_type": "code",
   "execution_count": null,
   "metadata": {
    "slideshow": {
     "slide_type": "skip"
    }
   },
   "outputs": [],
   "source": [
    "#include <iostream>\n",
    "using namespace std;"
   ]
  },
  {
   "cell_type": "markdown",
   "metadata": {
    "slideshow": {
     "slide_type": "slide"
    }
   },
   "source": [
    "# Polymorphism"
   ]
  },
  {
   "cell_type": "markdown",
   "metadata": {
    "slideshow": {
     "slide_type": "slide"
    }
   },
   "source": [
    "## Introduction\n",
    "\n",
    "- **Polymorphism** is one of the key features of object-oriented programming, after classes and inheritance.\n",
    "    - *polymorphism* means *different forms*\n",
    "- **\"program in the general\"** rather than **program in the specific\"**\n",
    "    - Write programs that process objects of classes that are part of the same class hierarchy as if they were all objects of the hierarchy's base class.\n",
    "- Polymorphism works off base-class pointer handles and base-class **reference handles**, but **not** off name handles."
   ]
  },
  {
   "cell_type": "markdown",
   "metadata": {
    "slideshow": {
     "slide_type": "slide"
    }
   },
   "source": [
    "## Implementing for Extensibility\n",
    "\n",
    "Design and implement systems that are easily extensible.\n",
    "- Relying on each object to know how to \"do the right thing\" in response to the same function call is the key concept of polymorphism.\n",
    "- The same message sent to a variety of objects has \"many forms\" of results - hence the term *polymorphism*.\n",
    "- New classes can be added with little or no modification to the general portions of the program, as long as the new classes are part of the inheritance hierarchy that the program processes generally.\n",
    "- The only parts of a program that must be altered to accommodate new classes are those that require direct knowledge of the new classes that you add to the hierarchy."
   ]
  },
  {
   "cell_type": "markdown",
   "metadata": {
    "slideshow": {
     "slide_type": "slide"
    }
   },
   "source": [
    "## Inheritance  as a Relation\n",
    "\n",
    "<div>\n",
    "<div style=\"width:70%; float: left; padding: 1em;\">\n",
    "    \n",
    "- We distinguish between the **is-a** relationship and the **has-a** relationship.\n",
    "\n",
    "\n",
    "- The <span style=\"color:red;font-weight: bold;\">is-a</span> relationship represents <span style=\"color:red;font-weight: bold;\">inheritance</span>.\n",
    "\n",
    "\n",
    "- In an **is-a** relationship, an object of a **derived class** also can be treated as an object of its **base class**.\n",
    "\n",
    "\n",
    "- By contrast, the **has-a** relationship represents **composition**.\n",
    "\n",
    "</div>\n",
    "<div style=\"width:30%; float: left;\">\n",
    "    <img src=\"img/Hierarchies.png\"/>\n",
    "</div>\n",
    "</div>\n"
   ]
  },
  {
   "cell_type": "markdown",
   "metadata": {
    "slideshow": {
     "slide_type": "slide"
    }
   },
   "source": [
    "## Inheritance: Relationships Among Objects\n",
    "\n",
    "<div>\n",
    "<div style=\"width:70%; float: left; padding: 1em;\">\n",
    "    \n",
    "- How *base-class* and *derived-class* pointers can be aimed at base-class and derived-class objects, and how those pointers can be used to invoke member functions that manipulate those objects.\n",
    "    - An **object of a derived class** can be treated as an **object of its base class**.\n",
    "- Despite the fact that the *derived-class objects* are of **different types**, the compiler **allows** this because each *derived-class object* **is an** *object of its base class*.\n",
    "- We cannot treat a base-class object as an any of its derived classes.\n",
    "- The **is-a** relationship applies only from a derived class to its direct and indirect base classes.\n",
    "\n",
    "</div>\n",
    "<div style=\"width:30%; float: left;\">\n",
    "    <img src=\"img/Hierarchies.png\"/>\n",
    "</div>\n",
    "</div>\n"
   ]
  },
  {
   "cell_type": "markdown",
   "metadata": {
    "slideshow": {
     "slide_type": "slide"
    }
   },
   "source": [
    "## Invoking Base-Class Functions from Derived-Class Objects\n",
    "\n",
    "<div>\n",
    "<div style=\"width:50%; float: left; padding: 1em;\">\n",
    "\n",
    "Consider the `Shape` inheritance hierarchy:\n",
    "- The **base class** is `Shape`\n",
    "</div>\n",
    "<div style=\"width:50%; float: right;\">\n",
    "    <img src=\"img/Inheritance2.png\"/>\n",
    "</div>\n",
    "</div>"
   ]
  },
  {
   "cell_type": "code",
   "execution_count": null,
   "metadata": {
    "slideshow": {
     "slide_type": "slide"
    }
   },
   "outputs": [],
   "source": [
    "class Shape {\n",
    "public:\n",
    "    void draw() {cout << \"Draw shape\" << endl; }\n",
    "};"
   ]
  },
  {
   "cell_type": "code",
   "execution_count": null,
   "metadata": {
    "slideshow": {
     "slide_type": "fragment"
    }
   },
   "outputs": [],
   "source": [
    "class Circle : public Shape {\n",
    "    float r{0.0};\n",
    "public:\n",
    "    void draw() {cout << \"Draw circle\" << endl; }\n",
    "    void radius() {cout << \"The radius is \" << r << endl; }\n",
    "};"
   ]
  },
  {
   "cell_type": "code",
   "execution_count": null,
   "metadata": {
    "slideshow": {
     "slide_type": "fragment"
    }
   },
   "outputs": [],
   "source": [
    "class Square : public Shape {\n",
    "    float s{0.0};\n",
    "public:\n",
    "    void draw() {cout << \"Draw square\" << endl; }\n",
    "    void side() {cout << \"The side is \" << s << endl; }\n",
    "};"
   ]
  },
  {
   "cell_type": "markdown",
   "metadata": {
    "slideshow": {
     "slide_type": "slide"
    }
   },
   "source": [
    "- Method invocation\n",
    "    - Aim a base-class pointer at a base-class object and invoke base-class functionality\n",
    "    - Aim a derived-class pointer at a derived-class object and invoke derived-class functionality"
   ]
  },
  {
   "cell_type": "code",
   "execution_count": 5,
   "metadata": {
    "slideshow": {
     "slide_type": "fragment"
    }
   },
   "outputs": [
    {
     "name": "stdout",
     "output_type": "stream",
     "text": [
      "Draw shape\n",
      "Draw shape\n"
     ]
    }
   ],
   "source": [
    "{\n",
    "    Shape s;\n",
    "    s.draw();\n",
    "    Shape* base_ptr = &s;\n",
    "    base_ptr->draw();\n",
    "}"
   ]
  },
  {
   "cell_type": "code",
   "execution_count": 6,
   "metadata": {
    "slideshow": {
     "slide_type": "fragment"
    }
   },
   "outputs": [
    {
     "name": "stdout",
     "output_type": "stream",
     "text": [
      "Draw circle\n",
      "Draw circle\n"
     ]
    }
   ],
   "source": [
    "{\n",
    "    Circle c;\n",
    "    c.draw();\n",
    "    Circle* der_ptr = &c;\n",
    "    der_ptr->draw();\n",
    "}"
   ]
  },
  {
   "cell_type": "markdown",
   "metadata": {
    "slideshow": {
     "slide_type": "slide"
    }
   },
   "source": [
    "- Demonstrate the relationship between derived classes and base classes\n",
    "    - Aim a **base-class pointer** at a **derived-class object** and showing that the base-class functionality is indeed available in the derived-class object.\n",
    "    - Circle **is a** Shape"
   ]
  },
  {
   "cell_type": "code",
   "execution_count": 8,
   "metadata": {
    "slideshow": {
     "slide_type": "fragment"
    }
   },
   "outputs": [
    {
     "name": "stdout",
     "output_type": "stream",
     "text": [
      "Draw circle\n",
      "Draw square\n",
      "Draw shape\n",
      "Draw shape\n"
     ]
    }
   ],
   "source": [
    "{\n",
    "    // Create derived-class objects\n",
    "    Circle c;\n",
    "    c.draw();\n",
    "    \n",
    "    Square s;\n",
    "    s.draw();\n",
    "    \n",
    "    // Use base-class pointer\n",
    "    Shape* ptr;\n",
    "\n",
    "    ptr = &c;\n",
    "    ptr->draw();\n",
    "    \n",
    "    ptr = &s;\n",
    "    ptr->draw();\n",
    "}"
   ]
  },
  {
   "cell_type": "markdown",
   "metadata": {
    "slideshow": {
     "slide_type": "slide"
    }
   },
   "source": [
    "The function in the base class is **always** executed.\n",
    "- The compiler ignores the contents of the pointer `ptr` and chooses the member function that matches the type of the pointer.\n",
    "    \n",
    "![](img/Virtual1.png)"
   ]
  },
  {
   "cell_type": "markdown",
   "metadata": {
    "slideshow": {
     "slide_type": "slide"
    }
   },
   "source": [
    "- Aim **derived-class** pointers at **base-class** object\n",
    "    - C++ compiler generates an error.\n",
    "    - The compiler prevents this assignment\n",
    "        - Shape **is not** a Circle."
   ]
  },
  {
   "cell_type": "code",
   "execution_count": 9,
   "metadata": {
    "slideshow": {
     "slide_type": "fragment"
    }
   },
   "outputs": [
    {
     "name": "stderr",
     "output_type": "stream",
     "text": [
      "\u001b[1minput_line_16:4:13: \u001b[0m\u001b[0;1;31merror: \u001b[0m\u001b[1mcannot initialize a variable of type 'Circle *' with an rvalue of type 'Shape *'\u001b[0m\n",
      "    Circle* ptr = &s;\n",
      "\u001b[0;1;32m            ^     ~~\n",
      "\u001b[0m"
     ]
    },
    {
     "ename": "Interpreter Error",
     "evalue": "",
     "output_type": "error",
     "traceback": [
      "Interpreter Error: "
     ]
    }
   ],
   "source": [
    "{\n",
    "    Shape s;\n",
    "    Circle* ptr = &s;\n",
    "    ptr->draw();\n",
    "}"
   ]
  },
  {
   "cell_type": "markdown",
   "metadata": {
    "slideshow": {
     "slide_type": "slide"
    }
   },
   "source": [
    "- Off a base-class pointer, the compiler allows us to invoke **only** base-class member functions.\n",
    "- If a base-class pointer is aimed at a derived-class object, and an attempt is made to access a **derived-class-only member function**, a compilation error will occur.\n"
   ]
  },
  {
   "cell_type": "code",
   "execution_count": 12,
   "metadata": {
    "slideshow": {
     "slide_type": "fragment"
    }
   },
   "outputs": [
    {
     "name": "stderr",
     "output_type": "stream",
     "text": [
      "\u001b[1minput_line_19:7:11: \u001b[0m\u001b[0;1;31merror: \u001b[0m\u001b[1mno member named 'radius' in 'Shape'\u001b[0m\n",
      "    sptr->radius();\n",
      "\u001b[0;1;32m    ~~~~  ^\n",
      "\u001b[0m"
     ]
    },
    {
     "ename": "Interpreter Error",
     "evalue": "",
     "output_type": "error",
     "traceback": [
      "Interpreter Error: "
     ]
    }
   ],
   "source": [
    "{\n",
    "    Circle c;\n",
    "    Circle* cptr = &c;\n",
    "    cptr->radius();\n",
    "    Shape* sptr = &c;\n",
    "    sptr->radius();\n",
    "}"
   ]
  },
  {
   "cell_type": "markdown",
   "metadata": {
    "slideshow": {
     "slide_type": "slide"
    }
   },
   "source": [
    "## Downcasting\n",
    "\n",
    "- The compiler will allow access to derived-class-only members from a base-class pointer that is aimed at a derived-class object **if** we explicitly cast the base-class pointer to a derived-class pointer - known as **downcasting**.\n",
    "- Downcasting allows a derived-class-specific operation on a derived-class object pointed to by a base-class pointer.\n",
    "- After a downcast, the program can invoke derived-class functions that are not in the base class."
   ]
  },
  {
   "cell_type": "code",
   "execution_count": null,
   "metadata": {
    "slideshow": {
     "slide_type": "slide"
    }
   },
   "outputs": [],
   "source": [
    "{\n",
    "    Circle c;\n",
    "    Circle* cptr{&c};\n",
    "    cptr->draw();\n",
    "    Shape* sptr{&c};\n",
    "    ((Circle*)sptr)->radius();\n",
    "}"
   ]
  },
  {
   "cell_type": "code",
   "execution_count": null,
   "metadata": {
    "slideshow": {
     "slide_type": "fragment"
    }
   },
   "outputs": [],
   "source": [
    "{\n",
    "    Shape s;\n",
    "    // Wrong!!!\n",
    "    ((Circle*)&s)->radius();\n",
    "}"
   ]
  },
  {
   "cell_type": "markdown",
   "metadata": {
    "slideshow": {
     "slide_type": "slide"
    }
   },
   "source": [
    "## Virtual Functions\n",
    "\n",
    "Suppose that shape classes such as `Circle`, `Triangle`, `Rectangle` and `Square` are all derived from base class `Shape`.\n",
    "- Each of these classes might be endowed with the ability to **draw** itself via a member function `draw`, but the function for each shape is quite different.\n",
    "- In a program that draws a set of shapes, it would be useful to be able to treat all the shapes generally as objects of the base class `Shape`.\n",
    "- To draw any shape, we could simply use a **base-class** `Shape` pointer to invoke function `draw`\n",
    "    - Let the program determine dynamically (i.e., at runtime) which **derived-class** `draw` function to use, based on the type of the object to which the base-class `Shape` pointer points at any given time.\n",
    "- This is **polymorphic behavior**.\n",
    "    - The `draw()` function must be declared to be virtual in the base class.  "
   ]
  },
  {
   "cell_type": "code",
   "execution_count": null,
   "metadata": {
    "slideshow": {
     "slide_type": "slide"
    }
   },
   "outputs": [],
   "source": [
    "class Shape {\n",
    "public:\n",
    "    virtual void draw() {cout << \"Draw shape\" << endl; }\n",
    "};"
   ]
  },
  {
   "cell_type": "code",
   "execution_count": null,
   "metadata": {
    "slideshow": {
     "slide_type": "fragment"
    }
   },
   "outputs": [],
   "source": [
    "class Circle : public Shape {\n",
    "    float r{0.0};\n",
    "public:\n",
    "    void draw() {cout << \"Draw circle\" << endl; }\n",
    "    void radius() {cout << \"The radius is \" << r << endl; }\n",
    "};"
   ]
  },
  {
   "cell_type": "code",
   "execution_count": null,
   "metadata": {
    "slideshow": {
     "slide_type": "fragment"
    }
   },
   "outputs": [],
   "source": [
    "class Square : public Shape {\n",
    "    float s{0.0};\n",
    "public:\n",
    "    void draw() {cout << \"Draw square\" << endl; }\n",
    "    void side() {cout << \"The side is \" << s << endl; }\n",
    "};"
   ]
  },
  {
   "cell_type": "code",
   "execution_count": null,
   "metadata": {
    "slideshow": {
     "slide_type": "slide"
    }
   },
   "outputs": [],
   "source": [
    "{\n",
    "    // Create derived-class objects\n",
    "    Circle c;\n",
    "    c.draw();\n",
    "    \n",
    "    Square s;\n",
    "    s.draw();\n",
    "    \n",
    "    // Use base-class pointer\n",
    "    Shape* ptr;\n",
    "\n",
    "    ptr = &c;\n",
    "    ptr->draw();\n",
    "    \n",
    "    ptr = &s;\n",
    "    ptr->draw();\n",
    "}"
   ]
  },
  {
   "cell_type": "markdown",
   "metadata": {
    "slideshow": {
     "slide_type": "slide"
    }
   },
   "source": [
    "- With virtual functions, the type of the **object** - not the type of the handle used to invoke the object's member function - determines which version of a virtual function to invoke.\n",
    "\n",
    "![](img/Virtual2.png)"
   ]
  },
  {
   "cell_type": "markdown",
   "metadata": {
    "slideshow": {
     "slide_type": "slide"
    }
   },
   "source": [
    "## Declaring `virtual` Functions\n",
    "\n",
    "- To enable this behavior, we declare `draw` in the **base class** as a `virtual` function\n",
    "    - and we override `draw` in each of the **derived classes** to draw the appropriate shape.\n",
    "- An overridden function in a derived class has the **same signature and return type** (i.e., prototype) as the function it overrides in its base class.\n",
    "- If we declare the base-class function as `virtual`, we can override that function to enable **polymorphic behavior**.\n",
    "- We declare a virtual function by preceding the function's prototype with the key-word `virtual` in the base class.\n",
    "- Once a function is declared virtual, it remains virtual all the way down the inheritance hierarchy from that point, even if that function is not explicitly declared virtual when a derived class overrides it.\n",
    "- When a derived class chooses not to override a virtual function from its base class, the derived class simply inherits its base class's virtual function implementation."
   ]
  },
  {
   "cell_type": "markdown",
   "metadata": {
    "slideshow": {
     "slide_type": "slide"
    }
   },
   "source": [
    "## Late Binding\n",
    "\n",
    "- If a program invokes a **virtual** function through a base-class pointer to a derived-class object or a base-class reference to a derived-class, the program will choose the correct derived-class function dynamically, at runtime, based on the **object type** - not the pointer or reference type.\n",
    "    - Known as **dynamic binding** or **late binding**.\n",
    "    - Late binding requires some overhead but provides increased power and flexibility.\n",
    "    \n",
    "- When a virtual function is called by referencing a specific object by name and using the dot member-selection operator, the function invocation is re-solved at compile time (this is called static binding) and the virtual function that is called is the one defined for (or inherited by) the class of that particular object - this is not polymorphic behavior.\n",
    "    - Dynamic binding with virtual functions occurs **only** off pointers and references"
   ]
  },
  {
   "cell_type": "code",
   "execution_count": null,
   "metadata": {
    "slideshow": {
     "slide_type": "slide"
    }
   },
   "outputs": [],
   "source": [
    "class Shape3D {\n",
    "public:\n",
    "    virtual void draw() { cout << \"Draw 3D shape\" << endl; }\n",
    "    ~Shape3D() { cout << \"Destroy 3D shape\" << endl; }\n",
    "};"
   ]
  },
  {
   "cell_type": "code",
   "execution_count": null,
   "metadata": {
    "slideshow": {
     "slide_type": "fragment"
    }
   },
   "outputs": [],
   "source": [
    "class Cube : public Shape3D {\n",
    "public:\n",
    "    void draw() { cout << \"Draw cube\" << endl; }\n",
    "    ~Cube() { cout << \"Destroy cube\" << endl; }\n",
    "};"
   ]
  },
  {
   "cell_type": "code",
   "execution_count": null,
   "metadata": {
    "slideshow": {
     "slide_type": "fragment"
    }
   },
   "outputs": [],
   "source": [
    "{\n",
    "    Shape3D* sptr = new Shape3D();\n",
    "    sptr->draw();\n",
    "    delete sptr;\n",
    "    \n",
    "    sptr = new Cube();\n",
    "    sptr->draw();\n",
    "    delete sptr;\n",
    "}"
   ]
  },
  {
   "cell_type": "markdown",
   "metadata": {
    "slideshow": {
     "slide_type": "slide"
    }
   },
   "source": [
    "## `virtual` Destructors\n",
    "\n",
    "- A problem can occur when using polymorphism to process dynamically allocated objects of a class hierarchy.\n",
    "    - If a derived-class object with a non-virtual destructor is destroyed by applying the delete operator to a base-class pointer to the object, the C++ standard specifies that the behavior is **undefined**.\n",
    "- The simple solution to this problem is to create a **public virtual destructor** in the base class.\n",
    "    - If a base class destructor is declared `virtual`, the destructors of any derived classes are **also virtual**."
   ]
  },
  {
   "cell_type": "code",
   "execution_count": null,
   "metadata": {
    "slideshow": {
     "slide_type": "slide"
    }
   },
   "outputs": [],
   "source": [
    "class Shape3D {\n",
    "public:\n",
    "    virtual void draw() { cout << \"Draw 3D shape\" << endl; }\n",
    "    virtual ~Shape3D() { cout << \"Destroy 3D shape\" << endl; }\n",
    "};"
   ]
  },
  {
   "cell_type": "code",
   "execution_count": null,
   "metadata": {
    "slideshow": {
     "slide_type": "fragment"
    }
   },
   "outputs": [],
   "source": [
    "class Cube : public Shape3D {\n",
    "public:\n",
    "    void draw() { cout << \"Draw cube\" << endl; }\n",
    "    ~Cube() { cout << \"Destroy cube\" << endl; }\n",
    "};"
   ]
  },
  {
   "cell_type": "code",
   "execution_count": null,
   "metadata": {
    "slideshow": {
     "slide_type": "fragment"
    }
   },
   "outputs": [],
   "source": [
    "{\n",
    "    Shape3D* sptr = new Shape3D();\n",
    "    sptr->draw();\n",
    "    delete sptr;\n",
    "    \n",
    "    sptr = new Cube();\n",
    "    sptr->draw();\n",
    "    delete sptr;\n",
    "}"
   ]
  },
  {
   "cell_type": "markdown",
   "metadata": {},
   "source": [
    "Now, if an object in the hierarchy is destroyed explicitly by applying the delete operator to a base-class pointer, the destructor for the appropriate class is called based on the object to which the base-class pointer points.\n",
    "Remember, when a derived-class object is destroyed, the base-class part of the derived-class object is also destroyed, so it’s important for the destructors of both the derived and base classes to execute.\n",
    "The base-class destructor automatically executes after the derived-class destructor."
   ]
  }
 ],
 "metadata": {
  "celltoolbar": "Slideshow",
  "kernelspec": {
   "display_name": "C++14",
   "language": "C++14",
   "name": "xcpp14"
  },
  "language_info": {
   "codemirror_mode": "text/x-c++src",
   "file_extension": ".cpp",
   "mimetype": "text/x-c++src",
   "name": "c++",
   "version": "-std=c++14"
  }
 },
 "nbformat": 4,
 "nbformat_minor": 2
}
