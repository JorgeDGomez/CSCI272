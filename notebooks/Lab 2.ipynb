{
 "cells": [
  {
   "cell_type": "markdown",
   "metadata": {},
   "source": [
    "# Lab 2"
   ]
  },
  {
   "cell_type": "markdown",
   "metadata": {},
   "source": [
    "## Problem\n",
    "\n",
    "Calculate a **norm** for various vector spaces. A **norm** is a function that assigns a strictly positive length or size to each vector in a vector space, except for the zero vector, which is assigned a length of zero.\n",
    "\n",
    "For vector space $V$, a **norm** on $V$ is a nonnegative-valued scalar function $p: V \\to [0,+\\infty)$.\n",
    "\n",
    "You can use this knowledge to calculate `norm` for various vector spaces that are presented as a hierarchy of classes `Real`, `Complex`, `Polynomial`, and `Vector`."
   ]
  },
  {
   "cell_type": "markdown",
   "metadata": {},
   "source": [
    "## Rubric\n",
    "\n",
    "Write a program that accomplishes each of the following:\n",
    "\n",
    "- Create a user-defined **abstract** class `VectorSpace` that has pure virtual functions (5 pts):\n",
    "    - `to_string` which returns a string representation of the class object\n",
    "    - `norm` which returns a norm of the class object\n",
    "    - Define `virtual` destructor\n",
    "- Create a user-defined class `Real` derived from `VectorSpace` that has a *protected* data member that would contain a value of the real number (10 pts).\n",
    "    - Create a constructor that accepts one parameter which is used to initialize a class object.\n",
    "    - Override `norm` & `to_string` function in this derived class.\n",
    "- Derive a class `Complex` derived from `Real` and add additional data member for the imaginary part of the number (10 pts).\n",
    "    - Create a constructor that accepts two parameters which are used to initialize a class object.\n",
    "    - Implement required methods.\n",
    "- Derive a class `Polynomial` derived from `Complex` and add additional data member for the the exponents of algebraic coefficients (10 pts).\n",
    "    - Create a constructor that accepts three parameters which are used to initialize a class object.\n",
    "    - Implement required methods.\n",
    "- Create a user-defined class `Vector` derived from `VectorSpace` that has a *protected* data member that would contain a real vector values (10 pts).\n",
    "    - Use vector data type for keeping elements of the `Vector` class\n",
    "    - Create a constructor that accepts three parameter which are used to initialize a class object.\n",
    "    - Create a destructor that clears internal `vector`-base data storage.\n",
    "    - Implement required methods.\n",
    "\n",
    "### Test\n",
    "- Your code have to be compiled without errors.\n",
    "- Test you code using the provided test driver."
   ]
  },
  {
   "cell_type": "markdown",
   "metadata": {},
   "source": [
    "## Additional Problem\n",
    "\n",
    "- Create a user-defined class `RealVector` derived from `VectorSpace` that has a *protected* data member that would contain a `Real` vector values (10 pts).\n",
    "    - Use vector data type for keeping elements of the `Vector` class\n",
    "    - Create a constructor that accepts three parameter which are used to initialize a class object.\n",
    "    - Create a destructor that clears internal `vector`-base data storage.\n",
    "    - Allocate and deallocate `Real` values explicitly.\n",
    "    - Implement required methods.\n"
   ]
  },
  {
   "cell_type": "markdown",
   "metadata": {},
   "source": [
    "## Test Driver"
   ]
  },
  {
   "cell_type": "code",
   "execution_count": 14,
   "metadata": {},
   "outputs": [
    {
     "name": "stdout",
     "output_type": "stream",
     "text": [
      "|3| = 3\n",
      "|3+4i| = 5\n",
      "|1x^2+2x+3| = 3.74166\n",
      "|[1 2 3]| = 3.74166\n"
     ]
    }
   ],
   "source": [
    "#include <iostream>\n",
    "#include <cmath>\n",
    "#include <vector>\n",
    "using namespace std;\n",
    "\n",
    "int main()\n",
    "{\n",
    "    vector<VectorSpace*> elements;\n",
    "    \n",
    "    elements.push_back(new Real{3});\n",
    "    elements.push_back(new Complex{3,4});\n",
    "    elements.push_back(new Polynomial{1,2,3});\n",
    "    elements.push_back(new Vector{1,2,3});\n",
    "    \n",
    "    for(auto e : elements){\n",
    "        cout << \"|\"<< e->to_string() << \"| = \"<< e->norm() << endl;\n",
    "    }\n",
    "    \n",
    "    for(auto e : elements)\n",
    "        delete e;\n",
    "    \n",
    "    return 0;\n",
    "}"
   ]
  }
 ],
 "metadata": {
  "kernelspec": {
   "display_name": "C++14",
   "language": "C++14",
   "name": "xcpp14"
  },
  "language_info": {
   "codemirror_mode": "text/x-c++src",
   "file_extension": ".cpp",
   "mimetype": "text/x-c++src",
   "name": "c++",
   "version": "-std=c++14"
  }
 },
 "nbformat": 4,
 "nbformat_minor": 2
}
