{
 "cells": [
  {
   "cell_type": "code",
   "execution_count": null,
   "metadata": {
    "slideshow": {
     "slide_type": "skip"
    }
   },
   "outputs": [],
   "source": [
    "#include <iostream>\n",
    "#include <fstream>\n",
    "#include <iomanip>\n",
    "using namespace std;"
   ]
  },
  {
   "cell_type": "markdown",
   "metadata": {
    "slideshow": {
     "slide_type": "slide"
    }
   },
   "source": [
    "# File I/O"
   ]
  },
  {
   "cell_type": "markdown",
   "metadata": {
    "slideshow": {
     "slide_type": "slide"
    }
   },
   "source": [
    "# Output Stream Formatting"
   ]
  },
  {
   "cell_type": "markdown",
   "metadata": {
    "slideshow": {
     "slide_type": "slide"
    }
   },
   "source": [
    "## Member functions and flags\n",
    "\n",
    "Output streams (class `ostream` and related classes) have some useful member functions for controlling output formatting.\n",
    "\n",
    "- `precision()`:  sets the precision for floating-point values to a specific number of significant digits after the decimal point. Takes that number as a parameter\n",
    "\n",
    "- `unsetf()`: the \"unset flags\" function. Call this to turn off one of the flags"
   ]
  },
  {
   "cell_type": "markdown",
   "metadata": {
    "slideshow": {
     "slide_type": "slide"
    }
   },
   "source": [
    "- `setf()`: the \"set flags\" function. Takes as a parameter the flag to be turned \"on\". Some of the flags that can be turned on or off are:\n",
    "    - `ios::fixed`: to specify that floating-point numbers will be printed in fixed notation.\n",
    "    - `ios::scientific`: to specify that floating-point numbers will be printed in scientific (exponential) notation.\n",
    "    - `ios::showpoint`: specifies that the decimal point will always be printed for floating point types (even if the value is a whole number, like 4.0\n",
    "    - `ios::right`: right-justifies an output item in a field, if a field width is specified\n",
    "    - `ios::left`: left-justifies an output item in a field, if a field width is specified"
   ]
  },
  {
   "cell_type": "markdown",
   "metadata": {
    "slideshow": {
     "slide_type": "slide"
    }
   },
   "source": [
    "- `width()`: used to specify the \"field width\" for the next item that is output. Number of character positions is specified as a parameter. Left and right justify flags will apply when this function is used to specify field widths. Extra \"space\" in the field will be filled with a fill character, which is set to a space by default:"
   ]
  },
  {
   "cell_type": "code",
   "execution_count": null,
   "metadata": {
    "slideshow": {
     "slide_type": "fragment"
    }
   },
   "outputs": [],
   "source": [
    "{\n",
    "    int x = 1234;\n",
    "    cout.setf(ios::right);\n",
    "    cout.width(10);\n",
    "    cout << \"Hello\";\n",
    "    cout.width(15);\n",
    "    cout << x;\n",
    "}"
   ]
  },
  {
   "cell_type": "markdown",
   "metadata": {
    "slideshow": {
     "slide_type": "slide"
    }
   },
   "source": [
    "- `fill()`: used to specify the fill character to be used to pad out extra space in a field (when using width()). Takes the character as a parameter."
   ]
  },
  {
   "cell_type": "code",
   "execution_count": null,
   "metadata": {
    "slideshow": {
     "slide_type": "fragment"
    }
   },
   "outputs": [],
   "source": [
    "{\n",
    "    int x = 1234;\n",
    "    cout.setf(ios::right);\n",
    "    cout.fill('.'); // change the fill character\n",
    "    cout.width(10); // set field width to 10\n",
    "    cout << x;      // print x\n",
    "}"
   ]
  },
  {
   "cell_type": "markdown",
   "metadata": {
    "slideshow": {
     "slide_type": "slide"
    }
   },
   "source": [
    "## Stream Manipulators\n",
    "\n",
    "- A stream manipulator is a symbol or function that is used by placing it on the right side of the insertion operator `<<`.\n",
    "\n",
    "- A plain manipulator is just a symbol, like a variable:\n",
    "```c++\n",
    "cout << endl;\t   // endl is a stream manipulator\n",
    "```\n",
    "- A parameterized stream manipulator looks like a function call -- it has one or more parameters:\n",
    "```c++\n",
    "cout << setw(10);\t // setw() is a parameterized manipulator\n",
    "```\n",
    "- To use parameterized stream manipulators, you need to include the `<iomanip>` library"
   ]
  },
  {
   "cell_type": "markdown",
   "metadata": {
    "slideshow": {
     "slide_type": "slide"
    }
   },
   "source": [
    "## Stream Manipulators (cont.)\n",
    "\n",
    "- Many of the stream manipulators are just alternate ways of doing tasks performed by member functions. A nice benefit is that cascading can be used, intermixing manipulators and other output statements that use the insertion operator\n",
    "```c++\n",
    "cout << setw(10) << \"Hello\" << endl;\n",
    "```\n",
    "\n",
    "- `setprecision()` is a parameterized stream manipulator that performs the same task as the member function `precision()`\n",
    "```c++\n",
    "cout.precision(2);\t   // sets decimal precision to 2 significant digits\n",
    "cout << setprecision(2);  // does the same thing!\n",
    "```"
   ]
  },
  {
   "cell_type": "markdown",
   "metadata": {
    "slideshow": {
     "slide_type": "slide"
    }
   },
   "source": [
    "- `setw()` is a parameterized stream manipulator that performs the same task as the member function `width()`\n",
    "```c++\n",
    "cout.width(10);    // sets field width to 10 for next output\n",
    "cout << setw(10);  // does the same thing!\n",
    "```\n",
    "- `setfill()` is a parameterized stream manipulator that performs the same task as the member function `fill()`\n",
    "```c++\n",
    "cout.fill('*');       // sets fill character to '*'\n",
    "cout << setfill('*'); // does the same thing!\n",
    "```"
   ]
  },
  {
   "cell_type": "markdown",
   "metadata": {
    "slideshow": {
     "slide_type": "slide"
    }
   },
   "source": [
    "- `setiosflags()` is a parameterized stream manipulator that performs the same task as the member function `setf()`\n",
    "```c++\n",
    "cout.setf(ios::left);            // sets left justification flag\n",
    "cout << setiosflags(ios::left);  // does the same thing!\n",
    "```\n",
    "\n",
    "- There are also some newer stream manipulators that correspond to some of the formatting flags. For example:\n",
    "```c++\n",
    "cout.setf(ios::left);    // sets left justification for cout\n",
    "cout << left;            // also sets left justification for cout\n",
    "```\n",
    "- **Caution**: Some of these manipulators that correspond to formatting flags were introduced in a newer version of the `<iomanip>` library, just a few years ago. Some older compilers (still in use) may not recognize them!\n"
   ]
  }
 ],
 "metadata": {
  "celltoolbar": "Slideshow",
  "kernelspec": {
   "display_name": "C++14",
   "language": "C++14",
   "name": "xcpp14"
  },
  "language_info": {
   "codemirror_mode": "text/x-c++src",
   "file_extension": ".cpp",
   "mimetype": "text/x-c++src",
   "name": "c++",
   "version": "-std=c++14"
  }
 },
 "nbformat": 4,
 "nbformat_minor": 4
}
