{
 "cells": [
  {
   "cell_type": "code",
   "execution_count": 17,
   "metadata": {
    "slideshow": {
     "slide_type": "skip"
    }
   },
   "outputs": [],
   "source": [
    "#include <iostream>\n",
    "#include <memory>\n",
    "using namespace std;"
   ]
  },
  {
   "cell_type": "markdown",
   "metadata": {
    "slideshow": {
     "slide_type": "slide"
    }
   },
   "source": [
    "# (Smart) Pointers"
   ]
  },
  {
   "cell_type": "markdown",
   "metadata": {
    "slideshow": {
     "slide_type": "slide"
    }
   },
   "source": [
    "## Introduction\n",
    "\n",
    "- Pointers are one of the most powerful, yet challenging to use, C++ capabilities.\n",
    "\n",
    "- Pointers also enable **pass-by-reference** and can be used to create and manipulate pointer-based dynamic data structures.\n",
    "\n",
    "- Pointers have relationship to built-in static arrays\n",
    "    - In new software development projects, you should favor `array` and `vector` objects to built-in arrays.\n"
   ]
  },
  {
   "cell_type": "markdown",
   "metadata": {
    "slideshow": {
     "slide_type": "slide"
    }
   },
   "source": [
    "## Pointer Variable Declarations and Initialization\n",
    "\n",
    "- A pointer contains the **memory address** of a variable that, in turn, contains a specific value.\n",
    "\n",
    "- In this sense, a variable name **directly references a value**, and a pointer **indirectly references a value**.\n",
    "\n",
    "- Referencing a value through a pointer is called **indirection**.\n",
    "\n",
    "<img src=\"../img/pointer.jpg\" style=\"width:70%\"/>"
   ]
  },
  {
   "cell_type": "markdown",
   "metadata": {
    "slideshow": {
     "slide_type": "slide"
    }
   },
   "source": [
    "## Declaring Pointers\n",
    "\n",
    "The declaration\n",
    "\n",
    "```c++\n",
    "int * countPtr, count;\n",
    "```\n",
    "- declares the variable `countPtr` to be a type `int*` (i.e., a pointer to an int value) and is read (right to left), \"countPtr  is a pointer to int\".\n",
    "\n",
    "    - Variable `count` in the preceding declaration is declared to be an `int`\n",
    "    - The `*` in the declaration applies only to `countPtr`\n",
    "    - Each variable being declared as a pointer must be preceded by an asterisk (`*`).\n",
    "\n",
    "- When `*`appears in a declaration, it is **not** an operator\n",
    "    - it indicates that the variable being declared is a pointer.\n",
    "\n",
    "- Pointers can be declared to point to objects of **any** type."
   ]
  },
  {
   "cell_type": "markdown",
   "metadata": {
    "slideshow": {
     "slide_type": "slide"
    }
   },
   "source": [
    "## Declaring Pointers (cont.)\n",
    "\n",
    "- Each pointer must be declared with the `*` prefixed to the name (with or without spaces in between).\n",
    "- Declaring only one variable per declaration helps avoid these types of errors and improves program readability."
   ]
  },
  {
   "cell_type": "markdown",
   "metadata": {
    "slideshow": {
     "slide_type": "slide"
    }
   },
   "source": [
    "## Initializing Pointers \n",
    "\n",
    "- Pointers should be initialized to `nullptr` (new in C++11) or to a memory either when they're declared or in an assignment.\n",
    "\n",
    "- A pointer with the value `nullptr` \"points to nothing\" and is known as a **null pointer**.\n",
    "\n",
    "- Initialize all pointers to prevent pointing to unknown or uninitialized areas of memory."
   ]
  },
  {
   "cell_type": "markdown",
   "metadata": {
    "slideshow": {
     "slide_type": "slide"
    }
   },
   "source": [
    "## Null Pointers Prior to C++11\n",
    "\n",
    "- In earlier versions of C++, the value specified for a null pointer was `0` or `NULL`\n",
    "\n",
    "- `NULL` is defined in several standard library headers to represent the value `0`\n",
    "\n",
    "- Initializing a pointer to `NULL` is equivalent to initializing a pointer to `0`, but prior to C++11, `0` was used by convention.\n",
    "\n",
    "- The value `0` is the **only** integer value that can be assigned directly to a pointer variable without first **casting** the integer to a pointer type"
   ]
  },
  {
   "cell_type": "markdown",
   "metadata": {
    "slideshow": {
     "slide_type": "slide"
    }
   },
   "source": [
    "# Pointer Operators\n",
    "\n",
    "- The unary operators `&` and `*` are used to create pointer values and \"dereference\" pointers, respectively."
   ]
  },
  {
   "cell_type": "markdown",
   "metadata": {
    "slideshow": {
     "slide_type": "slide"
    }
   },
   "source": [
    "## Address (`&`) Operator\n",
    "\n",
    "- The **address operator (`&`)** is a unary operator that **obtains the memory address of its operand**.\n",
    "\n",
    "- Assuming the declarations"
   ]
  },
  {
   "cell_type": "code",
   "execution_count": 2,
   "metadata": {
    "slideshow": {
     "slide_type": "fragment"
    }
   },
   "outputs": [],
   "source": [
    "{\n",
    "    int y{5};           // declare variable y\n",
    "    int* yPtr{nullptr}; // declare pointer variable\n",
    "    yPtr = &y;          // assign address of y to yPtr\n",
    "}"
   ]
  },
  {
   "cell_type": "markdown",
   "metadata": {
    "slideshow": {
     "slide_type": "fragment"
    }
   },
   "source": [
    "<img src=\"../img/amp-op.jpg\" style=\"width:70%\"/>"
   ]
  },
  {
   "cell_type": "markdown",
   "metadata": {
    "slideshow": {
     "slide_type": "slide"
    }
   },
   "source": [
    "## Address (`&`) Operator (cont.)\n",
    "\n",
    "<img src=\"../img/ptr-vals.jpg\" style=\"width:70%\"/>\n",
    "\n",
    "\n",
    "- Representation in memory with integer variable `y` stored at memory location 600000 and pointer variable `yPtr` stored at location 500000.\n",
    "\n",
    "\n",
    "- The operand of the address operator must be an **l-value** - the address operator **cannot** be applied to constants or to expressions that result in temporary values (like the results of calculations)."
   ]
  },
  {
   "cell_type": "markdown",
   "metadata": {
    "slideshow": {
     "slide_type": "slide"
    }
   },
   "source": [
    "## Indirection (`*`) Operator\n",
    "\n",
    "- The **unary `*` operator** - commonly referred to as the **indirection operator** or **dereferencing** operator.\n",
    "\n",
    "    - Returns an *l-value* representing the object to which its pointer operand points.\n",
    "\n",
    "    - Called dereferencing a pointer\n",
    "\n",
    "- A **dereferenced pointer** may also be used as an *l-value* on the **left** side of an assignment.\n",
    "- Dereferencing an **uninitialized** or a null pointer results in **undefined behavior**."
   ]
  },
  {
   "cell_type": "code",
   "execution_count": 3,
   "metadata": {
    "slideshow": {
     "slide_type": "slide"
    }
   },
   "outputs": [
    {
     "name": "stdout",
     "output_type": "stream",
     "text": [
      "The address of `a` is 0x7fffee79efb4\n",
      "The value of `aPtr` is 0x7fffee79efb4\n",
      "The value of `a` is 7\n",
      "The value of `aPtr` is 7\n"
     ]
    }
   ],
   "source": [
    "{\n",
    "    int a{7};\n",
    "    int* aPtr = &a;\n",
    "    \n",
    "    cout << \"The address of `a` is \" << &a << endl;\n",
    "    cout << \"The value of `aPtr` is \" << aPtr << endl;\n",
    "    cout << \"The value of `a` is \" << a << endl;\n",
    "    cout << \"The value of `aPtr` is \" << *aPtr << endl;\n",
    "}"
   ]
  },
  {
   "cell_type": "markdown",
   "metadata": {
    "slideshow": {
     "slide_type": "slide"
    }
   },
   "source": [
    "## Pass-By-Reference with Pointers\n",
    "\n",
    "- There are three ways in C++ to pass arguments to a function\n",
    "\n",
    "    - pass-by-value\n",
    "\n",
    "    - pass-by-reference with reference arguments\n",
    "\n",
    "    - **pass-by-reference with pointer arguments**"
   ]
  },
  {
   "cell_type": "markdown",
   "metadata": {
    "slideshow": {
     "slide_type": "slide"
    }
   },
   "source": [
    "## Pass-By-Reference with Pointers (cont.)\n",
    "\n",
    "- Pointers can be used to modify one or more variables in the caller or to pass pointers to large data objects to avoid the overhead of copying the objects.\n",
    "\n",
    "- You can use pointers and the indirection operator (`*`) to accomplish *pass-by-reference*.\n",
    "\n",
    "- When calling a function with an argument that should be modified, the **address** of the argument is passed."
   ]
  },
  {
   "cell_type": "code",
   "execution_count": 4,
   "metadata": {
    "slideshow": {
     "slide_type": "slide"
    }
   },
   "outputs": [],
   "source": [
    "// Pass-By-Value\n",
    "int cubeByValue(int x) {\n",
    "    return x*x*x;\n",
    "}"
   ]
  },
  {
   "cell_type": "code",
   "execution_count": 5,
   "metadata": {
    "slideshow": {
     "slide_type": "fragment"
    }
   },
   "outputs": [
    {
     "name": "stdout",
     "output_type": "stream",
     "text": [
      "Original `num` value is 9\n",
      "New `num` value is 729\n"
     ]
    }
   ],
   "source": [
    "{\n",
    "    int number{9};\n",
    "    \n",
    "    cout << \"Original `num` value is \" << number << endl;\n",
    "    number = cubeByValue(number);\n",
    "    cout << \"New `num` value is \" << number << endl;    \n",
    "}"
   ]
  },
  {
   "cell_type": "markdown",
   "metadata": {
    "slideshow": {
     "slide_type": "slide"
    }
   },
   "source": [
    "<img src=\"../img/pbv1.jpg\" style=\"width:100%\"/>"
   ]
  },
  {
   "cell_type": "markdown",
   "metadata": {
    "slideshow": {
     "slide_type": "slide"
    }
   },
   "source": [
    "<img src=\"../img/pbv2.jpg\" style=\"width:100%\"/>"
   ]
  },
  {
   "cell_type": "markdown",
   "metadata": {
    "slideshow": {
     "slide_type": "slide"
    }
   },
   "source": [
    "<img src=\"../img/pbv3.jpg\" style=\"width:100%\"/>"
   ]
  },
  {
   "cell_type": "code",
   "execution_count": 6,
   "metadata": {
    "slideshow": {
     "slide_type": "slide"
    }
   },
   "outputs": [],
   "source": [
    "// Pass-By-Reference with Pointers\n",
    "void cubeByRef(int* xPtr) {\n",
    "    *xPtr = *xPtr * *xPtr * *xPtr;\n",
    "}"
   ]
  },
  {
   "cell_type": "code",
   "execution_count": 7,
   "metadata": {
    "slideshow": {
     "slide_type": "fragment"
    }
   },
   "outputs": [
    {
     "name": "stdout",
     "output_type": "stream",
     "text": [
      "Original `number` value is 5\n",
      "New `number` value is 125\n"
     ]
    }
   ],
   "source": [
    "{\n",
    "    int number{5};\n",
    "    \n",
    "    cout << \"Original `number` value is \" << number << endl;\n",
    "    cubeByRef(&number);\n",
    "    cout << \"New `number` value is \" << number << endl;    \n",
    "}"
   ]
  },
  {
   "cell_type": "markdown",
   "metadata": {
    "slideshow": {
     "slide_type": "slide"
    }
   },
   "source": [
    "<img src=\"../img/pbr1.jpg\" style=\"width:100%\"/>"
   ]
  },
  {
   "cell_type": "markdown",
   "metadata": {
    "slideshow": {
     "slide_type": "slide"
    }
   },
   "source": [
    "<img src=\"../img/pbr2.jpg\" style=\"width:100%\"/>"
   ]
  },
  {
   "cell_type": "markdown",
   "metadata": {
    "slideshow": {
     "slide_type": "slide"
    }
   },
   "source": [
    "<img src=\"../img/pbr3.jpg\" style=\"width:100%\"/>"
   ]
  },
  {
   "cell_type": "markdown",
   "metadata": {
    "slideshow": {
     "slide_type": "slide"
    }
   },
   "source": [
    "## Pass-By-Reference with Pointers (cont.)\n",
    "\n",
    "- **Insight: All Arguments Are Passed By Value**\n",
    "\n",
    "- Passing a variable by reference with a pointer **does not actually pass anything by reference**\n",
    "\n",
    "    - a pointer to that variable is passed by value and is **copied** into the function's corresponding pointer parameter.\n",
    "\n",
    "- The called function can then access that variable in the caller simply by dereferencing the pointer, thus accomplishing **pass-by-reference**."
   ]
  },
  {
   "cell_type": "markdown",
   "metadata": {
    "slideshow": {
     "slide_type": "slide"
    }
   },
   "source": [
    "## Resource allocation \n",
    "\n",
    "- Consider a function in which we dynamically allocate a value:\n",
    "\n",
    "```c++\n",
    "void someFunction()\n",
    "{\n",
    "    // Resource is a struct or class \n",
    "    Resource *ptr = new Resource;\n",
    "    // do stuff with ptr here\n",
    "    delete ptr;\n",
    "}\n",
    "```"
   ]
  },
  {
   "cell_type": "markdown",
   "metadata": {
    "slideshow": {
     "slide_type": "slide"
    }
   },
   "source": [
    "## Resource allocation (cont.)\n",
    "\n",
    "- Although the above code seems fairly straightforward, it is fairly easy to forget to deallocate `ptr`.\n",
    "\n",
    "```c++\n",
    "void someFunction()\n",
    "{\n",
    "    // Resource is a struct or class \n",
    "    Resource *ptr = new Resource;\n",
    "    // the function returns early, and ptr won’t be deleted!\n",
    "    if (x == 0)        \n",
    "        throw 0;\n",
    "    delete ptr;\n",
    "}\n",
    "```\n",
    "- Pointer variables have no inherent mechanism to clean up after themselves."
   ]
  },
  {
   "cell_type": "markdown",
   "metadata": {
    "slideshow": {
     "slide_type": "slide"
    }
   },
   "source": [
    "## Resources and Smart Pointers\n",
    "\n",
    "- One of the major classes of bugs in C-style programming is the **memory leak**.\n",
    "- Leaks are often caused by a failure to call **delete** for memory that was allocated with **new**.\n",
    "- Modern C++ emphasizes the **principle of resource acquisition is initialization (RAII)**. \n",
    "\n",
    "```c++\n",
    "void someFunction()\n",
    "{\n",
    "    // Resource is a struct or class \n",
    "    Resource var;\n",
    "    // the function returns early, and ptr will be deleted!\n",
    "    if (x == 0)        \n",
    "        throw 0;\n",
    "} // destructor will be call at the end of the scope lifetime\n",
    "```"
   ]
  },
  {
   "cell_type": "markdown",
   "metadata": {
    "slideshow": {
     "slide_type": "slide"
    }
   },
   "source": [
    "## Smart Pointers\n",
    "\n",
    "- Although the above code seems fairly straightforward, it is fairly easy to forget to deallocate `ptr`.\n",
    "\n",
    "```c++\n",
    "#include <memory>\n",
    "void someFunction()\n",
    "{\n",
    "    // Resource is a struct or class\n",
    "    std::auto_ptr<Resource> ptr = new Resource;  \n",
    "    if (x == 0)\n",
    "        throw 0; // ptr will be deallocated here\n",
    " \n",
    "    return; // ptr will be deallocated here\n",
    "}\n",
    "```"
   ]
  },
  {
   "cell_type": "markdown",
   "metadata": {
    "slideshow": {
     "slide_type": "slide"
    }
   },
   "source": [
    "## Example: resource mgmt"
   ]
  },
  {
   "cell_type": "code",
   "execution_count": 8,
   "metadata": {
    "slideshow": {
     "slide_type": "slide"
    }
   },
   "outputs": [],
   "source": [
    "class Resource {\n",
    "public:    \n",
    "    Resource *selfptr{nullptr};    \n",
    "    Resource() {selfptr = this; cout << \"Allocate the resource: \"<< selfptr << endl; }\n",
    "    ~Resource() { selfptr = nullptr; cout << \"Deallocate the resource: \" << selfptr << endl; }\n",
    "}"
   ]
  },
  {
   "cell_type": "code",
   "execution_count": 9,
   "metadata": {
    "slideshow": {
     "slide_type": "fragment"
    }
   },
   "outputs": [
    {
     "name": "stdout",
     "output_type": "stream",
     "text": [
      "Allocate the resource: 0x7fffee79efb0\n",
      "Deallocate the resource: 0\n"
     ]
    }
   ],
   "source": [
    "{\n",
    "\n",
    "    Resource r; // implicit allocation\n",
    "\n",
    "} // implicit deallocation at the end of the scope"
   ]
  },
  {
   "cell_type": "code",
   "execution_count": 10,
   "metadata": {
    "slideshow": {
     "slide_type": "fragment"
    }
   },
   "outputs": [
    {
     "name": "stdout",
     "output_type": "stream",
     "text": [
      "Allocate the resource: 0x55b7660f2ba0\n"
     ]
    },
    {
     "ename": "Error",
     "evalue": "",
     "output_type": "error",
     "traceback": [
      "Error: "
     ]
    }
   ],
   "source": [
    "{\n",
    "    Resource* rptr = new Resource; // explicit allocation\n",
    "    throw 0; // problem here, destructor never called\n",
    "    delete rptr;\n",
    "}"
   ]
  },
  {
   "cell_type": "markdown",
   "metadata": {
    "slideshow": {
     "slide_type": "slide"
    }
   },
   "source": [
    "## Example: `my_auto_ptr` smart pointer"
   ]
  },
  {
   "cell_type": "code",
   "execution_count": 12,
   "metadata": {
    "slideshow": {
     "slide_type": "slide"
    }
   },
   "outputs": [],
   "source": [
    "// my_auto_ptr\n",
    "template<typename T>\n",
    "class my_auto_ptr {\n",
    "    T* ptr;\n",
    "public:\n",
    "    my_auto_ptr(T* newptr) : ptr{newptr} {}\n",
    "    ~my_auto_ptr() { delete ptr; }\n",
    "    \n",
    "    T& operator*() const { return *ptr; }\n",
    "    T* operator->() const { return ptr; }\n",
    "};"
   ]
  },
  {
   "cell_type": "code",
   "execution_count": 13,
   "metadata": {
    "scrolled": true,
    "slideshow": {
     "slide_type": "fragment"
    }
   },
   "outputs": [
    {
     "name": "stdout",
     "output_type": "stream",
     "text": [
      "Allocate the resource: 0x55b767928d40\n",
      "Deallocate the resource: 0\n"
     ]
    },
    {
     "ename": "Error",
     "evalue": "",
     "output_type": "error",
     "traceback": [
      "Error: "
     ]
    }
   ],
   "source": [
    "{\n",
    "    Resource* rptr = new Resource; // explicit allocation\n",
    "    my_auto_ptr<Resource> smartptr{rptr}; // wrapped in auto_ptr\n",
    "    throw 0; // no problem here\n",
    "    delete rptr;\n",
    "} // destructor for auto_ptr called here, and so for Resource"
   ]
  },
  {
   "cell_type": "markdown",
   "metadata": {
    "slideshow": {
     "slide_type": "slide"
    }
   },
   "source": [
    "## Tips\n",
    "\n",
    "`std::auto_ptr` has a number of problems that makes using it dangerous.\n",
    "\n",
    "- `std::auto_ptr` implements **move semantics** through the copy constructor and assignment operator, passing a `std::auto_ptr` by value to a function will cause your resource to get moved to the function parameter\n",
    "    - and be destroyed at the end of the function when the function parameters go out of scope.\n",
    "    - Then when you go to access your `auto_ptr` argument from the caller (not realizing it was transferred and deleted)\n",
    "\n",
    "- `auto_ptr` always deletes its contents using non-array delete.\n",
    "    - This means `auto_ptr` won't work correctly with dynamically allocated arrays.\n",
    "\n",
    "- `auto_ptr` doesn't play nice with a lot of the other classes in the standard library"
   ]
  },
  {
   "cell_type": "code",
   "execution_count": 16,
   "metadata": {
    "slideshow": {
     "slide_type": "fragment"
    }
   },
   "outputs": [
    {
     "name": "stdout",
     "output_type": "stream",
     "text": [
      "Allocate the resource: 0x55b766e982b0\n",
      "Try to use my resource: 0x55b766e982b0\n",
      "Deallocate the resource: 0\n",
      "Try to use my resource: 0x55b7673f7d40\n"
     ]
    }
   ],
   "source": [
    "{\n",
    "    Resource* rptr = new Resource; // explicit allocation\n",
    "    cout << \"Try to use my resource: \" << rptr->selfptr << endl;\n",
    "    {\n",
    "        my_auto_ptr<Resource> smartptr{rptr}; // wrapped in auto_ptr\n",
    "    }\n",
    "    cout << \"Try to use my resource: \" << rptr->selfptr << endl; // different object\n",
    "    // delete rptr; // double delete\n",
    "}"
   ]
  },
  {
   "cell_type": "markdown",
   "metadata": {
    "slideshow": {
     "slide_type": "slide"
    }
   },
   "source": [
    "## More Smart Pointers\n",
    "\n",
    "- To support easy adoption of RAII principles, the C++ Standard Library provides three smart pointer types:\n",
    "    - `std::unique_ptr`\n",
    "    - `std::shared_ptr`\n",
    "    - `std::weak_ptr`\n",
    "- A smart pointer handles the allocation and deletion of the memory it owns.\n",
    "- The following example shows a class with an array member that is allocated on the heap in the call to `make_unique()`.\n",
    "    - The calls to new and delete are encapsulated by the `unique_ptr` class."
   ]
  },
  {
   "cell_type": "code",
   "execution_count": null,
   "metadata": {
    "slideshow": {
     "slide_type": "slide"
    }
   },
   "outputs": [],
   "source": [
    "#include <memory>\n",
    "class widget\n",
    "{\n",
    "private:\n",
    "    std::unique_ptr<int> data;\n",
    "public:\n",
    "    widget(const int size) { data = std::make_unique<int>(size); }\n",
    "    void do_something() {}\n",
    "};\n",
    "\n",
    "void functionUsingWidget() {\n",
    "    widget w(1000000);   // lifetime automatically tied to enclosing scope\n",
    "                // constructs w, including the w.data gadget member\n",
    "    // ...\n",
    "    w.do_something();\n",
    "    // ...\n",
    "} // automatic destruction and deallocation for w and w.data"
   ]
  },
  {
   "cell_type": "code",
   "execution_count": 36,
   "metadata": {
    "slideshow": {
     "slide_type": "fragment"
    }
   },
   "outputs": [
    {
     "name": "stdout",
     "output_type": "stream",
     "text": [
      "Allocate the resource: 0x55b767ca3a80\n",
      "Try to use my resource: 0x55b767ca3a80\n",
      "Try to use my resource from `shared_ptr`: 0x55b767ca3a80\n",
      "Try to use my resource: 0x55b767ca3a80\n",
      "Deallocate the resource: 0\n"
     ]
    }
   ],
   "source": [
    "{\n",
    "    shared_ptr<Resource> rptr = make_shared<Resource>(); // explicit allocation\n",
    "    cout << \"Try to use my resource: \" << rptr->selfptr << endl;\n",
    "    {\n",
    "        shared_ptr<Resource> smartptr{rptr}; // wrapped in auto_ptr\n",
    "        cout << \"Try to use my resource from `shared_ptr`: \" << smartptr->selfptr << endl; // different object\n",
    "    }\n",
    "    cout << \"Try to use my resource: \" << rptr->selfptr << endl; // different object\n",
    "    // delete rptr; // double delete\n",
    "}"
   ]
  }
 ],
 "metadata": {
  "celltoolbar": "Slideshow",
  "jupytext": {
   "cell_metadata_filter": "-all",
   "main_language": "python",
   "notebook_metadata_filter": "-all"
  },
  "kernelspec": {
   "display_name": "C++14",
   "language": "C++14",
   "name": "xcpp14"
  },
  "language_info": {
   "codemirror_mode": "text/x-c++src",
   "file_extension": ".cpp",
   "mimetype": "text/x-c++src",
   "name": "c++",
   "version": "-std=c++14"
  }
 },
 "nbformat": 4,
 "nbformat_minor": 4
}
